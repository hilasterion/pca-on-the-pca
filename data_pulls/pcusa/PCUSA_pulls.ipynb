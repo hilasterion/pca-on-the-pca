{
 "cells": [
  {
   "cell_type": "code",
   "execution_count": 2,
   "id": "ba884913",
   "metadata": {},
   "outputs": [],
   "source": [
    "from selenium import webdriver\n",
    "from selenium.webdriver.common.by import By\n",
    "import pandas as pd\n",
    "import time"
   ]
  },
  {
   "cell_type": "code",
   "execution_count": 3,
   "id": "ed555e1f",
   "metadata": {},
   "outputs": [],
   "source": [
    "def get_reviews(churchname,url):\n",
    "    options = webdriver.ChromeOptions()\n",
    "    driver = webdriver.Chrome()\n",
    "    #url=\"\"\n",
    "    driver.get(url)\n",
    "    time.sleep(5)\n",
    "    \n",
    "    SCROLL_PAUSE_TIME = 5\n",
    "\n",
    "    # Get scroll height\n",
    "    last_height = driver.execute_script(\"return document.body.scrollHeight\")\n",
    "\n",
    "    number = 0\n",
    "    \n",
    "    while True:\n",
    "        number = number+1\n",
    "    \n",
    "        # Scroll down to bottom\n",
    "        ele = driver.find_element(\"xpath\", '//*[@id=\"QA0Szd\"]/div/div/div[1]/div[2]/div/div[1]/div/div/div[2]')\n",
    "        driver.execute_script('arguments[0].scrollBy(0, 5000);', ele)\n",
    "    \n",
    "        # Wait to load page\n",
    "    \n",
    "        time.sleep(SCROLL_PAUSE_TIME)\n",
    "     \n",
    "        ele = driver.find_element(\"xpath\",'//*[@id=\"QA0Szd\"]/div/div/div[1]/div[2]/div/div[1]/div/div/div[2]')\n",
    "    \n",
    "        new_height = driver.execute_script(\"return arguments[0].scrollHeight\", ele)\n",
    "    \n",
    "   \n",
    "        if number == 4:\n",
    "            break\n",
    "    \n",
    "        if new_height == last_height:\n",
    "            break\n",
    "    \n",
    "        last_height = new_height\n",
    "    \n",
    "    \n",
    "    item = driver.find_elements(\"xpath\",'//*[@id=\"QA0Szd\"]/div/div/div[1]/div[2]/div/div[1]/div/div/div[2]')\n",
    "    time.sleep(3)\n",
    "    \n",
    "    \n",
    "    name_list = []\n",
    "    stars_list = []\n",
    "    review_list = []\n",
    "    duration_list = []\n",
    "\n",
    "    for i in item:\n",
    "\n",
    "        button = i.find_elements(By.TAG_NAME, \"button\")\n",
    "        for m in button:\n",
    "            if m.text == \"More\":\n",
    "                m.click()\n",
    "        time.sleep(5)\n",
    "    \n",
    "        name = i.find_elements(By.CLASS_NAME,\"d4r55\")\n",
    "        stars = i.find_elements(By.CLASS_NAME,\"kvMYJc\")\n",
    "        review = i.find_elements(By.CLASS_NAME,\"wiI7pd\")\n",
    "        duration = i.find_elements(By.CLASS_NAME,\"rsqaWe\")\n",
    "    \n",
    "        for j,k,l,p in zip(name,stars,review,duration):\n",
    "            name_list.append(j.text)\n",
    "            stars_list.append(k.get_attribute(\"aria-label\"))\n",
    "            review_list.append(l.text)\n",
    "            duration_list.append(p.text) \n",
    "        \n",
    "    review = pd.DataFrame(\n",
    "    {'name': name_list,\n",
    "     'rating': stars_list,\n",
    "     'review': review_list,\n",
    "     'duration': duration_list})\n",
    "    review = review[review['review'] != \"\"]\n",
    "    print (len(review))\n",
    "\n",
    "    review.to_csv(churchname+'.csv',index=False)\n",
    "    driver.quit()\n",
    "    time.sleep(3) "
   ]
  },
  {
   "cell_type": "code",
   "execution_count": 4,
   "id": "79dc4ab0",
   "metadata": {},
   "outputs": [
    {
     "name": "stdout",
     "output_type": "stream",
     "text": [
      "15\n",
      "17\n",
      "12\n",
      "15\n",
      "7\n",
      "17\n",
      "12\n",
      "8\n"
     ]
    }
   ],
   "source": [
    "get_reviews('pcusa0','https://www.google.com/maps/place/First+Presbyterian+Church+of+Charlotte/@35.2290894,-80.8458197,17z/data=!4m7!3m6!1s0x8856a02ff75ac63b:0xabd1d90861e859be!8m2!3d35.229085!4d-80.843631!9m1!1b1')\n",
    "get_reviews('pcusa1','https://www.google.com/maps/place/Myers+Park+Presbyterian+Church/@35.1936772,-80.8308177,17z/data=!4m7!3m6!1s0x88569fc17f1825f3:0x4f78fadd9b5a3f64!8m2!3d35.1936281!4d-80.8264433!9m1!1b1')\n",
    "get_reviews('pcusa2','https://www.google.com/maps/place/Sharon+Presbyterian+Church/@35.1412852,-80.8356056,17z/data=!3m1!5s0x88569e72a3065c01:0x96f44b2197b60029!4m7!3m6!1s0x88569e72943e5567:0x8065483709cbab57!8m2!3d35.1412808!4d-80.8334169!9m1!1b1')\n",
    "get_reviews('pcusa3','https://www.google.com/maps/place/Covenant+Presbyterian+Church/@35.2120537,-80.8458273,17z/data=!4m7!3m6!1s0x88569f85fb1a9f11:0xe23d7aa733cad665!8m2!3d35.2120625!4d-80.8438089!9m1!1b1')\n",
    "get_reviews('pcusa4','https://www.google.com/maps/place/Avondale+Presbyterian+Church/@35.1925327,-80.8540053,17z/data=!4m7!3m6!1s0x88569fa0d2cf1cad:0xb6aeaa2cfe36751a!8m2!3d35.1925283!4d-80.8518166!9m1!1b1')\n",
    "get_reviews('pcusa5','https://www.google.com/maps/place/Matthews+Presbyterian+Church/@35.1164483,-80.7269418,17z/data=!4m7!3m6!1s0x885426a978e8edcd:0x9815d2912097130b!8m2!3d35.1165748!4d-80.724967!9m1!1b1')\n",
    "get_reviews('pcusa6','https://www.google.com/maps/place/Grace+Presbyterian+Church/@35.0639774,-80.9947341,17z/data=!4m7!3m6!1s0x885690065da256eb:0x30c42cd2ff4bbca!8m2!3d35.063973!4d-80.9925454!9m1!1b1')\n",
    "get_reviews('pcusa7','https://www.google.com/maps/place/Carmel+Presbyterian+Church/@35.139131,-80.8063129,17z/data=!4m7!3m6!1s0x885420af50ea827b:0xb13932739bf31d72!8m2!3d35.1391266!4d-80.8041242!9m1!1b1')\n"
   ]
  },
  {
   "cell_type": "code",
   "execution_count": 5,
   "id": "10d28f2c",
   "metadata": {},
   "outputs": [
    {
     "name": "stdout",
     "output_type": "stream",
     "text": [
      "5\n"
     ]
    }
   ],
   "source": [
    "get_reviews('pcusa8','https://www.google.com/maps/place/Trinity+Presbyterian+Church/@36.0708632,-80.2928841,17z/data=!4m7!3m6!1s0x8853b03b0eb1d31d:0x655230ee18f64472!8m2!3d36.070861!4d-80.2906276!9m1!1b1')"
   ]
  },
  {
   "cell_type": "code",
   "execution_count": 6,
   "id": "39767315",
   "metadata": {},
   "outputs": [
    {
     "name": "stdout",
     "output_type": "stream",
     "text": [
      "10\n",
      "6\n",
      "4\n",
      "8\n",
      "8\n"
     ]
    }
   ],
   "source": [
    "get_reviews('pcusa9','https://www.google.com/maps/place/Highland+Presbyterian+Church/@36.0893123,-80.2820797,17z/data=!4m7!3m6!1s0x8853b1d42e735e0b:0xae3708862ec18967!8m2!3d36.089308!4d-80.279891!9m1!1b1')\n",
    "get_reviews('pcusa10','https://www.google.com/maps/place/Covenant+Presbyterian+Church/@36.0463161,-80.2439214,17z/data=!4m7!3m6!1s0x8853af85a08f3dbb:0xed1f10d5755183d0!8m2!3d36.0463053!4d-80.2417812!9m1!1b1')\n",
    "get_reviews('pcusa11','https://www.google.com/maps/place/Graham+Presbyterian+Church/@36.0700338,-79.4051542,17z/data=!4m7!3m6!1s0x88532b41e03cf975:0xdaa9495a301a20f6!8m2!3d36.0700319!4d-79.4027831!9m1!1b1')\n",
    "get_reviews('pcusa12','https://www.google.com/maps/place/New+Hope+Presbyterian+Church/@36.0130626,-79.0743937,17z/data=!4m7!3m6!1s0x89acdc2e210f85bb:0x3e31c337e226615a!8m2!3d36.0130583!4d-79.072205!9m1!1b1')\n",
    "get_reviews('pcusa13','https://www.google.com/maps/place/Guilford+Park+Presbyterian+Church/@36.1006974,-79.819897,17z/data=!4m7!3m6!1s0x88531ebaaf1d68ad:0xe5f7bae83159a01c!8m2!3d36.1004638!4d-79.8176416!9m1!1b1')\n"
   ]
  },
  {
   "cell_type": "code",
   "execution_count": 7,
   "id": "68962d87",
   "metadata": {},
   "outputs": [
    {
     "name": "stdout",
     "output_type": "stream",
     "text": [
      "6\n",
      "7\n",
      "4\n"
     ]
    },
    {
     "ename": "NoSuchElementException",
     "evalue": "Message: no such element: Unable to locate element: {\"method\":\"xpath\",\"selector\":\"//*[@id=\"QA0Szd\"]/div/div/div[1]/div[2]/div/div[1]/div/div/div[2]\"}\n  (Session info: chrome=108.0.5359.72)\nStacktrace:\nBacktrace:\n\tOrdinal0 [0x0070ACD3+2075859]\n\tOrdinal0 [0x0069EE61+1633889]\n\tOrdinal0 [0x0059B7BD+571325]\n\tOrdinal0 [0x005CAC2F+764975]\n\tOrdinal0 [0x005CAE1B+765467]\n\tOrdinal0 [0x005FD0F2+970994]\n\tOrdinal0 [0x005E7364+881508]\n\tOrdinal0 [0x005FB56A+963946]\n\tOrdinal0 [0x005E7136+880950]\n\tOrdinal0 [0x005BFEFD+720637]\n\tOrdinal0 [0x005C0F3F+724799]\n\tGetHandleVerifier [0x009BEED2+2769538]\n\tGetHandleVerifier [0x009B0D95+2711877]\n\tGetHandleVerifier [0x0079A03A+521194]\n\tGetHandleVerifier [0x00798DA0+516432]\n\tOrdinal0 [0x006A682C+1665068]\n\tOrdinal0 [0x006AB128+1683752]\n\tOrdinal0 [0x006AB215+1683989]\n\tOrdinal0 [0x006B6484+1729668]\n\tBaseThreadInitThunk [0x76F76359+25]\n\tRtlGetAppContainerNamedObjectPath [0x771687A4+228]\n\tRtlGetAppContainerNamedObjectPath [0x77168774+180]\n",
     "output_type": "error",
     "traceback": [
      "\u001b[1;31m---------------------------------------------------------------------------\u001b[0m",
      "\u001b[1;31mNoSuchElementException\u001b[0m                    Traceback (most recent call last)",
      "Input \u001b[1;32mIn [7]\u001b[0m, in \u001b[0;36m<cell line: 4>\u001b[1;34m()\u001b[0m\n\u001b[0;32m      2\u001b[0m get_reviews(\u001b[38;5;124m'\u001b[39m\u001b[38;5;124mpcusa15\u001b[39m\u001b[38;5;124m'\u001b[39m,\u001b[38;5;124m'\u001b[39m\u001b[38;5;124mhttps://www.google.com/maps/place/Cary+Presbyterian+Church/@35.7800243,-78.793645,17z/data=!4m7!3m6!1s0x89aced8a482791d3:0x1280da10160e23c9!8m2!3d35.78002!4d-78.7891603!9m1!1b1\u001b[39m\u001b[38;5;124m'\u001b[39m)\n\u001b[0;32m      3\u001b[0m get_reviews(\u001b[38;5;124m'\u001b[39m\u001b[38;5;124mpcusa16\u001b[39m\u001b[38;5;124m'\u001b[39m,\u001b[38;5;124m'\u001b[39m\u001b[38;5;124mhttps://www.google.com/maps/place/Downtown+Church/@34.0164472,-81.0295388,17z/data=!4m7!3m6!1s0x88f8a4d60cc65f13:0x454145ea4278fe1e!8m2!3d34.0164429!4d-81.0273498!9m1!1b1\u001b[39m\u001b[38;5;124m'\u001b[39m)\n\u001b[1;32m----> 4\u001b[0m \u001b[43mget_reviews\u001b[49m\u001b[43m(\u001b[49m\u001b[38;5;124;43m'\u001b[39;49m\u001b[38;5;124;43mpcusa17\u001b[39;49m\u001b[38;5;124;43m'\u001b[39;49m\u001b[43m,\u001b[49m\u001b[38;5;124;43m'\u001b[39;49m\u001b[38;5;124;43mhttps://www.google.com/maps/place/First+(Scots)+Presbyterian+Church/@32.774475,-79.9331455,17z/data=!4m7!3m6!1s0x88fe7a100999151d:0x155726cf39ca3cdc!8m2!3d32.7744713!4d-79.9309462!9m1!1b1\u001b[39;49m\u001b[38;5;124;43m'\u001b[39;49m\u001b[43m)\u001b[49m\n\u001b[0;32m      5\u001b[0m get_reviews(\u001b[38;5;124m'\u001b[39m\u001b[38;5;124mpcusa18\u001b[39m\u001b[38;5;124m'\u001b[39m,\u001b[38;5;124m'\u001b[39m\u001b[38;5;124mhttps://www.google.com/maps/place/Eastminster+Presbyterian+Church/@34.0081181,-80.9961711,17z/data=!4m7!3m6!1s0x88f8a55106d5e9f5:0xe01f9796217b25b3!8m2!3d34.0079915!4d-80.9939993!9m1!1b1\u001b[39m\u001b[38;5;124m'\u001b[39m)\n\u001b[0;32m      6\u001b[0m get_reviews(\u001b[38;5;124m'\u001b[39m\u001b[38;5;124mpcusa19\u001b[39m\u001b[38;5;124m'\u001b[39m,\u001b[38;5;124m'\u001b[39m\u001b[38;5;124mhttps://www.google.com/maps/place/Second+Presbyterian+Church/@32.7888561,-79.9361981,17z/data=!4m7!3m6!1s0x88fe7a6c5b611c43:0x4f75861e6057097d!8m2!3d32.788734!4d-79.9340155!9m1!1b1\u001b[39m\u001b[38;5;124m'\u001b[39m)\n",
      "Input \u001b[1;32mIn [3]\u001b[0m, in \u001b[0;36mget_reviews\u001b[1;34m(churchname, url)\u001b[0m\n\u001b[0;32m     16\u001b[0m number \u001b[38;5;241m=\u001b[39m number\u001b[38;5;241m+\u001b[39m\u001b[38;5;241m1\u001b[39m\n\u001b[0;32m     18\u001b[0m \u001b[38;5;66;03m# Scroll down to bottom\u001b[39;00m\n\u001b[1;32m---> 19\u001b[0m ele \u001b[38;5;241m=\u001b[39m \u001b[43mdriver\u001b[49m\u001b[38;5;241;43m.\u001b[39;49m\u001b[43mfind_element\u001b[49m\u001b[43m(\u001b[49m\u001b[38;5;124;43m\"\u001b[39;49m\u001b[38;5;124;43mxpath\u001b[39;49m\u001b[38;5;124;43m\"\u001b[39;49m\u001b[43m,\u001b[49m\u001b[43m \u001b[49m\u001b[38;5;124;43m'\u001b[39;49m\u001b[38;5;124;43m//*[@id=\u001b[39;49m\u001b[38;5;124;43m\"\u001b[39;49m\u001b[38;5;124;43mQA0Szd\u001b[39;49m\u001b[38;5;124;43m\"\u001b[39;49m\u001b[38;5;124;43m]/div/div/div[1]/div[2]/div/div[1]/div/div/div[2]\u001b[39;49m\u001b[38;5;124;43m'\u001b[39;49m\u001b[43m)\u001b[49m\n\u001b[0;32m     20\u001b[0m driver\u001b[38;5;241m.\u001b[39mexecute_script(\u001b[38;5;124m'\u001b[39m\u001b[38;5;124marguments[0].scrollBy(0, 5000);\u001b[39m\u001b[38;5;124m'\u001b[39m, ele)\n\u001b[0;32m     22\u001b[0m \u001b[38;5;66;03m# Wait to load page\u001b[39;00m\n",
      "File \u001b[1;32m~\\anaconda3\\lib\\site-packages\\selenium\\webdriver\\remote\\webdriver.py:861\u001b[0m, in \u001b[0;36mWebDriver.find_element\u001b[1;34m(self, by, value)\u001b[0m\n\u001b[0;32m    858\u001b[0m     by \u001b[38;5;241m=\u001b[39m By\u001b[38;5;241m.\u001b[39mCSS_SELECTOR\n\u001b[0;32m    859\u001b[0m     value \u001b[38;5;241m=\u001b[39m \u001b[38;5;124m'\u001b[39m\u001b[38;5;124m[name=\u001b[39m\u001b[38;5;124m\"\u001b[39m\u001b[38;5;132;01m%s\u001b[39;00m\u001b[38;5;124m\"\u001b[39m\u001b[38;5;124m]\u001b[39m\u001b[38;5;124m'\u001b[39m \u001b[38;5;241m%\u001b[39m value\n\u001b[1;32m--> 861\u001b[0m \u001b[38;5;28;01mreturn\u001b[39;00m \u001b[38;5;28;43mself\u001b[39;49m\u001b[38;5;241;43m.\u001b[39;49m\u001b[43mexecute\u001b[49m\u001b[43m(\u001b[49m\u001b[43mCommand\u001b[49m\u001b[38;5;241;43m.\u001b[39;49m\u001b[43mFIND_ELEMENT\u001b[49m\u001b[43m,\u001b[49m\u001b[43m \u001b[49m\u001b[43m{\u001b[49m\u001b[38;5;124;43m\"\u001b[39;49m\u001b[38;5;124;43musing\u001b[39;49m\u001b[38;5;124;43m\"\u001b[39;49m\u001b[43m:\u001b[49m\u001b[43m \u001b[49m\u001b[43mby\u001b[49m\u001b[43m,\u001b[49m\u001b[43m \u001b[49m\u001b[38;5;124;43m\"\u001b[39;49m\u001b[38;5;124;43mvalue\u001b[39;49m\u001b[38;5;124;43m\"\u001b[39;49m\u001b[43m:\u001b[49m\u001b[43m \u001b[49m\u001b[43mvalue\u001b[49m\u001b[43m}\u001b[49m\u001b[43m)\u001b[49m[\u001b[38;5;124m\"\u001b[39m\u001b[38;5;124mvalue\u001b[39m\u001b[38;5;124m\"\u001b[39m]\n",
      "File \u001b[1;32m~\\anaconda3\\lib\\site-packages\\selenium\\webdriver\\remote\\webdriver.py:444\u001b[0m, in \u001b[0;36mWebDriver.execute\u001b[1;34m(self, driver_command, params)\u001b[0m\n\u001b[0;32m    442\u001b[0m response \u001b[38;5;241m=\u001b[39m \u001b[38;5;28mself\u001b[39m\u001b[38;5;241m.\u001b[39mcommand_executor\u001b[38;5;241m.\u001b[39mexecute(driver_command, params)\n\u001b[0;32m    443\u001b[0m \u001b[38;5;28;01mif\u001b[39;00m response:\n\u001b[1;32m--> 444\u001b[0m     \u001b[38;5;28;43mself\u001b[39;49m\u001b[38;5;241;43m.\u001b[39;49m\u001b[43merror_handler\u001b[49m\u001b[38;5;241;43m.\u001b[39;49m\u001b[43mcheck_response\u001b[49m\u001b[43m(\u001b[49m\u001b[43mresponse\u001b[49m\u001b[43m)\u001b[49m\n\u001b[0;32m    445\u001b[0m     response[\u001b[38;5;124m\"\u001b[39m\u001b[38;5;124mvalue\u001b[39m\u001b[38;5;124m\"\u001b[39m] \u001b[38;5;241m=\u001b[39m \u001b[38;5;28mself\u001b[39m\u001b[38;5;241m.\u001b[39m_unwrap_value(response\u001b[38;5;241m.\u001b[39mget(\u001b[38;5;124m\"\u001b[39m\u001b[38;5;124mvalue\u001b[39m\u001b[38;5;124m\"\u001b[39m, \u001b[38;5;28;01mNone\u001b[39;00m))\n\u001b[0;32m    446\u001b[0m     \u001b[38;5;28;01mreturn\u001b[39;00m response\n",
      "File \u001b[1;32m~\\anaconda3\\lib\\site-packages\\selenium\\webdriver\\remote\\errorhandler.py:249\u001b[0m, in \u001b[0;36mErrorHandler.check_response\u001b[1;34m(self, response)\u001b[0m\n\u001b[0;32m    247\u001b[0m         alert_text \u001b[38;5;241m=\u001b[39m value[\u001b[38;5;124m\"\u001b[39m\u001b[38;5;124malert\u001b[39m\u001b[38;5;124m\"\u001b[39m]\u001b[38;5;241m.\u001b[39mget(\u001b[38;5;124m\"\u001b[39m\u001b[38;5;124mtext\u001b[39m\u001b[38;5;124m\"\u001b[39m)\n\u001b[0;32m    248\u001b[0m     \u001b[38;5;28;01mraise\u001b[39;00m exception_class(message, screen, stacktrace, alert_text)  \u001b[38;5;66;03m# type: ignore[call-arg]  # mypy is not smart enough here\u001b[39;00m\n\u001b[1;32m--> 249\u001b[0m \u001b[38;5;28;01mraise\u001b[39;00m exception_class(message, screen, stacktrace)\n",
      "\u001b[1;31mNoSuchElementException\u001b[0m: Message: no such element: Unable to locate element: {\"method\":\"xpath\",\"selector\":\"//*[@id=\"QA0Szd\"]/div/div/div[1]/div[2]/div/div[1]/div/div/div[2]\"}\n  (Session info: chrome=108.0.5359.72)\nStacktrace:\nBacktrace:\n\tOrdinal0 [0x0070ACD3+2075859]\n\tOrdinal0 [0x0069EE61+1633889]\n\tOrdinal0 [0x0059B7BD+571325]\n\tOrdinal0 [0x005CAC2F+764975]\n\tOrdinal0 [0x005CAE1B+765467]\n\tOrdinal0 [0x005FD0F2+970994]\n\tOrdinal0 [0x005E7364+881508]\n\tOrdinal0 [0x005FB56A+963946]\n\tOrdinal0 [0x005E7136+880950]\n\tOrdinal0 [0x005BFEFD+720637]\n\tOrdinal0 [0x005C0F3F+724799]\n\tGetHandleVerifier [0x009BEED2+2769538]\n\tGetHandleVerifier [0x009B0D95+2711877]\n\tGetHandleVerifier [0x0079A03A+521194]\n\tGetHandleVerifier [0x00798DA0+516432]\n\tOrdinal0 [0x006A682C+1665068]\n\tOrdinal0 [0x006AB128+1683752]\n\tOrdinal0 [0x006AB215+1683989]\n\tOrdinal0 [0x006B6484+1729668]\n\tBaseThreadInitThunk [0x76F76359+25]\n\tRtlGetAppContainerNamedObjectPath [0x771687A4+228]\n\tRtlGetAppContainerNamedObjectPath [0x77168774+180]\n"
     ]
    }
   ],
   "source": [
    "get_reviews('pcusa14','https://www.google.com/maps/place/Western+Boulevard+Presbyterian/@35.7778699,-78.7062964,17z/data=!4m7!3m6!1s0x89acf4548ff34603:0x695045bff18abd0b!8m2!3d35.7778656!4d-78.7041077!9m1!1b1')\n",
    "get_reviews('pcusa15','https://www.google.com/maps/place/Cary+Presbyterian+Church/@35.7800243,-78.793645,17z/data=!4m7!3m6!1s0x89aced8a482791d3:0x1280da10160e23c9!8m2!3d35.78002!4d-78.7891603!9m1!1b1')\n",
    "get_reviews('pcusa16','https://www.google.com/maps/place/Downtown+Church/@34.0164472,-81.0295388,17z/data=!4m7!3m6!1s0x88f8a4d60cc65f13:0x454145ea4278fe1e!8m2!3d34.0164429!4d-81.0273498!9m1!1b1')\n"
   ]
  },
  {
   "cell_type": "code",
   "execution_count": 9,
   "id": "85d1bcdd",
   "metadata": {},
   "outputs": [
    {
     "name": "stdout",
     "output_type": "stream",
     "text": [
      "6\n"
     ]
    }
   ],
   "source": [
    "get_reviews('pcusa17','https://www.google.com/maps/place/First+Presbyterian+Church/@32.6046648,-85.4823869,17z/data=!4m7!3m6!1s0x888cf31d244448e5:0x4eeefe4c81afca4a!8m2!3d32.6046693!4d-85.480198!9m1!1b1')"
   ]
  },
  {
   "cell_type": "code",
   "execution_count": 8,
   "id": "c428775b",
   "metadata": {},
   "outputs": [
    {
     "name": "stdout",
     "output_type": "stream",
     "text": [
      "13\n",
      "14\n",
      "5\n",
      "14\n"
     ]
    }
   ],
   "source": [
    "get_reviews('pcusa18','https://www.google.com/maps/place/Eastminster+Presbyterian+Church/@34.0081181,-80.9961711,17z/data=!4m7!3m6!1s0x88f8a55106d5e9f5:0xe01f9796217b25b3!8m2!3d34.0079915!4d-80.9939993!9m1!1b1')\n",
    "get_reviews('pcusa19','https://www.google.com/maps/place/Second+Presbyterian+Church/@32.7888561,-79.9361981,17z/data=!4m7!3m6!1s0x88fe7a6c5b611c43:0x4f75861e6057097d!8m2!3d32.788734!4d-79.9340155!9m1!1b1')\n",
    "get_reviews('pcusa20','https://www.google.com/maps/place/Mount+Pleasant+Presbyterian+Church/@32.7895725,-79.8807408,17z/data=!4m7!3m6!1s0x88fe70e3a0d72d41:0x3be31f2e08b750a9!8m2!3d32.789568!4d-79.8785521!9m1!1b1')\n",
    "get_reviews('pcusa21','https://www.google.com/maps/place/Sea+Island+Presbyterian+Church/@32.4104466,-80.6553978,17z/data=!4m7!3m6!1s0x88fc0d749923fd7d:0xa5363461dbac73f1!8m2!3d32.4102034!4d-80.6534474!9m1!1b1')"
   ]
  },
  {
   "cell_type": "code",
   "execution_count": 10,
   "id": "34d9f3d3",
   "metadata": {},
   "outputs": [
    {
     "name": "stdout",
     "output_type": "stream",
     "text": [
      "6\n",
      "7\n",
      "10\n",
      "11\n",
      "20\n",
      "17\n",
      "4\n",
      "6\n",
      "40\n",
      "37\n",
      "25\n"
     ]
    }
   ],
   "source": [
    "get_reviews('pcusa22','https://www.google.com/maps/place/Fourth+Presbyterian+Church/@34.8487821,-82.3934168,17z/data=!4m7!3m6!1s0x885831d44b312fa7:0x2993cafa08054ff6!8m2!3d34.8487777!4d-82.3912281!9m1!1b1')\n",
    "get_reviews('pcusa23','https://www.google.com/maps/place/Reid+Memorial+Presbyterian+Church/@33.4778328,-82.0183193,17z/data=!4m7!3m6!1s0x88f9cdbe800deb95:0xcfcbf0bf68a8f137!8m2!3d33.47782!4d-82.0161346!9m1!1b1')\n",
    "get_reviews('pcusa24','https://www.google.com/maps/place/Covenant+Presbyterian+Church/@33.4833524,-82.0566666,17z/data=!4m7!3m6!1s0x88f9d26f07475d61:0xec8ca49411b5015f!8m2!3d33.4833479!4d-82.0544779!9m1!1b1')\n",
    "get_reviews('pcusa25','https://www.google.com/maps/place/First+Presbyterian+Church/@33.9604864,-83.3789416,17z/data=!4m7!3m6!1s0x88f66cd8e4e39f51:0x9a7538f024dead45!8m2!3d33.960482!4d-83.3767529!9m1!1b1')\n",
    "get_reviews('pcusa26','https://www.google.com/maps/place/Covenant+Presbyterian+Church/@33.9259083,-83.3403872,17z/data=!4m7!3m6!1s0x88f66c7fb00ded53:0x6c0f119915d088c8!8m2!3d33.9259039!4d-83.3381985!9m1!1b1')\n",
    "get_reviews('pcusa27','https://www.google.com/maps/place/First+Presbyterian+Church/@34.3161497,-83.817288,17z/data=!4m7!3m6!1s0x88f5f650892d6267:0x4fdebb173fcad3d7!8m2!3d34.3161473!4d-83.8152169!9m1!1b1')\n",
    "get_reviews('pcusa28','https://www.google.com/maps/place/Madison+Presbyterian+Church/@33.5925505,-83.4729286,17z/data=!4m7!3m6!1s0x88f6870f15e33bfd:0x739498169ffdf7b0!8m2!3d33.5924977!4d-83.4707909!9m1!1b1')\n",
    "get_reviews('pcusa29','https://www.google.com/maps/place/Mount+Vernon+Presbyterian+Church/@33.9242324,-84.3738901,17z/data=!4m7!3m6!1s0x88f50ea3330fa393:0x20d2a369896a4ff3!8m2!3d33.924228!4d-84.3717014!9m1!1b1')\n",
    "get_reviews('pcusa30','https://www.google.com/maps/place/Central+Presbyterian+Church/@33.7498722,-84.3912296,17z/data=!3m1!5s0x88f50384f13d4ea3:0xe716e2e5bbccce20!4m7!3m6!1s0x88f50384f7542527:0x8a48afc635ad58b5!8m2!3d33.7498678!4d-84.3890409!9m1!1b1')\n",
    "get_reviews('pcusa31','https://www.google.com/maps/place/North+Avenue+Presbyterian+Church/@33.7708631,-84.3869133,17z/data=!4m7!3m6!1s0x88f5046fec216545:0x316c1142d1e4c595!8m2!3d33.7707668!4d-84.3847254!9m1!1b1')\n",
    "get_reviews('pcusa32','https://www.google.com/maps/place/Peachtree+Presbyterian+Church/@33.8473627,-84.3848318,17z/data=!3m1!5s0x88f50f6281bf5425:0x2a126345bc357845!4m7!3m6!1s0x88f50f628ae5f7cb:0xef34d99119a3158e!8m2!3d33.8473583!4d-84.3826431!9m1!1b1')"
   ]
  },
  {
   "cell_type": "code",
   "execution_count": 11,
   "id": "15adcd98",
   "metadata": {},
   "outputs": [
    {
     "name": "stdout",
     "output_type": "stream",
     "text": [
      "6\n",
      "13\n",
      "4\n",
      "9\n",
      "40\n",
      "11\n",
      "29\n",
      "8\n",
      "9\n",
      "6\n",
      "31\n",
      "8\n",
      "10\n"
     ]
    }
   ],
   "source": [
    "get_reviews('pcusa33','https://www.google.com/maps/place/Rivermont+Presbyterian+Church/@35.1026918,-85.2780037,17z/data=!4m7!3m6!1s0x88605fe0eeb24d13:0x5b5b2cd9a38fe408!8m2!3d35.1025802!4d-85.2755847!9m1!1b1')\n",
    "get_reviews('pcusa34','https://www.google.com/maps/place/Second+Presbyterian+Church/@35.0481236,-85.3145207,17z/data=!4m7!3m6!1s0x88605e62b6206a43:0x8351f5b2a0ec0891!8m2!3d35.0481174!4d-85.3124251!9m1!1b1')\n",
    "get_reviews('pcusa35','https://www.google.com/maps/place/First+Presbyterian+Church/@35.9487822,-86.8506306,17z/data=!4m7!3m6!1s0x88647e90bffe11a3:0x3583fc80b2361e58!8m2!3d35.9487779!4d-86.8484419!9m1!1b1')\n",
    "get_reviews('pcusa36','https://www.google.com/maps/place/Graystone+Presbyterian+Church/@35.945104,-83.9141855,17z/data=!4m7!3m6!1s0x885c178d5a2569d1:0x5b31d233757a4b73!8m2!3d35.9450997!4d-83.9097008!9m1!1b1')\n",
    "get_reviews('pcusa37','https://www.google.com/maps/place/Downtown+Presbyterian+Church/@36.1629875,-86.7819493,17z/data=!4m7!3m6!1s0x886466585666fb23:0xf839b16cf69a59d4!8m2!3d36.1629364!4d-86.7798723!9m1!1b1')\n",
    "get_reviews('pcusa38','https://www.google.com/maps/place/Woodland+Presbyterian+Church/@36.1793668,-86.7517426,17z/data=!4m7!3m6!1s0x886467d248a17997:0x7649fb0f958c4cc9!8m2!3d36.1793625!4d-86.7495539!9m1!1b1')\n",
    "get_reviews('pcusa39','https://www.google.com/maps/place/First+Presbyterian+Church/@35.149719,-90.0506988,17z/data=!4m7!3m6!1s0x87d57eed25f33783:0x3aea7991a7398dd1!8m2!3d35.1497062!4d-90.0485136!9m1!1b1')\n",
    "get_reviews('pcusa40','https://www.google.com/maps/place/Shady+Grove+Presbyterian+Church/@35.1236405,-89.8796689,17z/data=!4m7!3m6!1s0x887f849ce4602c21:0x626004ea02ae84ee!8m2!3d35.1236361!4d-89.8774802!9m1!1b1')\n",
    "get_reviews('pcusa41','https://www.google.com/maps/place/White+Bluff+Presbyterian+Church/@31.9854836,-81.1310348,17z/data=!3m1!5s0x88fb74f1b7416769:0xc358ef89c7ffbfed!4m7!3m6!1s0x88fb74f03547613f:0xcc704577841edc94!8m2!3d31.9854791!4d-81.1288461!9m1!1b1')\n",
    "get_reviews('pcusa42','https://www.google.com/maps/place/Fellowship+Presbyterian+Church/@34.7711627,-86.573922,17z/data=!4m7!3m6!1s0x88621528162f22ff:0x7bdb71fb697488ae!8m2!3d34.7710693!4d-86.5717361!9m1!1b1')\n",
    "get_reviews('pcusa43','https://www.google.com/maps/place/South+Highland+Presbyterian+Church/@33.4991195,-86.7961304,17z/data=!4m7!3m6!1s0x88891bc512565917:0xd74f7f09635e69ed!8m2!3d33.499115!4d-86.7939417!9m1!1b1')\n",
    "get_reviews('pcusa44','https://www.google.com/maps/place/Edgewood+Presbyterian+Church/@33.4727961,-86.8132601,17z/data=!4m7!3m6!1s0x888919459ae8edc9:0xa857f2e59861373b!8m2!3d33.4727916!4d-86.8110714!9m1!1b1')\n",
    "get_reviews('pcusa45','https://www.google.com/maps/place/Immanuel+Presbyterian+Church/@32.3385328,-86.1428607,17z/data=!4m7!3m6!1s0x888c2cf95d2ef19b:0xac7b64b180982251!8m2!3d32.3385283!4d-86.140672!9m1!1b1')\n"
   ]
  },
  {
   "cell_type": "code",
   "execution_count": 12,
   "id": "2b28fcf3",
   "metadata": {},
   "outputs": [
    {
     "name": "stdout",
     "output_type": "stream",
     "text": [
      "14\n",
      "3\n",
      "40\n",
      "10\n",
      "11\n",
      "8\n",
      "10\n",
      "12\n",
      "13\n",
      "14\n"
     ]
    }
   ],
   "source": [
    "get_reviews('pcusa46','https://www.google.com/maps/place/Evergreen+Presbyterian+Church/@31.2398126,-85.4211037,17z/data=!4m7!3m6!1s0x8892938a4ec823e3:0x765934d111f77b5c!8m2!3d31.239808!4d-85.418915!9m1!1b1')\n",
    "get_reviews('pcusa47','https://www.google.com/maps/place/Government+Street+Presbyterian/@30.6894748,-88.046642,17z/data=!4m7!3m6!1s0x889a4fd111d61cd5:0xa3c003f69ab8519b!8m2!3d30.6894702!4d-88.0444533!9m1!1b1')\n",
    "get_reviews('pcusa48','https://www.google.com/maps/place/Central+Presbyterian+Church/@30.6878746,-88.0674145,17z/data=!4m7!3m6!1s0x889a4e24a2232cd9:0xfb5221070bc63272!8m2!3d30.6876676!4d-88.0652457!9m1!1b1')\n",
    "get_reviews('pcusa49','https://www.google.com/maps/place/First+Presbyterian+Church+of+Pensacola/@30.4149346,-87.215711,18.25z/data=!4m7!3m6!1s0x8890c0afaa62f321:0x8ea858c1490f26fc!8m2!3d30.4147098!4d-87.2143348!9m1!1b1')\n",
    "get_reviews('pcusa50','https://www.google.com/maps/place/First+Presbyterian+Church/@29.6504504,-82.3303083,17z/data=!4m7!3m6!1s0x88e8a38dd2f3bd27:0xf797da2497bde6a5!8m2!3d29.6505245!4d-82.3280877!9m1!1b1')\n",
    "get_reviews('pcusa51','https://www.google.com/maps/place/Kanapaha+Presbyterian+Church/@29.5965694,-82.4248007,17z/data=!4m7!3m6!1s0x88e8bd0d3825b733:0x17812e6a11c1d2a2!8m2!3d29.5966454!4d-82.4226955!9m1!1b1')\n",
    "get_reviews('pcusa52','https://www.google.com/maps/place/Grace+Covenant+Presbyterian/@35.6249154,-82.5551748,17z/data=!4m7!3m6!1s0x8859f4ced596ab13:0xa1fae31ac7a12c4!8m2!3d35.6249106!4d-82.5529766!9m1!1b1')\n",
    "get_reviews('pcusa53','https://www.google.com/maps/place/Park+Lake+Presbyterian+Church/@28.5534777,-81.3755427,17z/data=!4m7!3m6!1s0x88e77af1cd577d61:0xf2089cfa2291e78b!8m2!3d28.553473!4d-81.373354!9m1!1b1')\n",
    "get_reviews('pcusa54','https://www.google.com/maps/place/Riverside+Presbyterian+Church/@30.3154696,-81.6824007,17z/data=!4m7!3m6!1s0x88e5b77098b72e65:0x331915079336c970!8m2!3d30.315461!4d-81.6802004!9m1!1b1')\n",
    "get_reviews('pcusa55','https://www.google.com/maps/place/South+Jacksonville+Presbyterian+Church/@30.3037379,-81.6540248,17z/data=!4m7!3m6!1s0x88e5b7abc5c8047b:0x3a45be2455198f00!8m2!3d30.3037333!4d-81.6518361!9m1!1b1')\n"
   ]
  },
  {
   "cell_type": "code",
   "execution_count": 13,
   "id": "84fb2390",
   "metadata": {},
   "outputs": [
    {
     "name": "stdout",
     "output_type": "stream",
     "text": [
      "18\n",
      "6\n",
      "6\n",
      "15\n",
      "13\n",
      "9\n",
      "11\n"
     ]
    }
   ],
   "source": [
    "get_reviews('pcusa56','https://www.google.com/maps/place/Covenant+Presbyterian+Church/@26.6315204,-81.8835968,17z/data=!4m7!3m6!1s0x88db41c39569d0d9:0x873247c1d69ddaed!8m2!3d26.6315711!4d-81.8815198!9m1!1b1')\n",
    "get_reviews('pcusa57','https://www.google.com/maps/place/Community+Presbyterian+Church/@26.3107233,-80.0801144,17z/data=!4m7!3m6!1s0x88d8e28a831b2d13:0x6fd373343d24a851!8m2!3d26.3107243!4d-80.077926!9m1!1b1')\n",
    "get_reviews('pcusa58','https://www.google.com/maps/place/Riviera+Presbyterian+Church/@25.7052143,-80.2810921,17z/data=!4m7!3m6!1s0x88d9c7fd3020e409:0x546f98fa45af245!8m2!3d25.7052095!4d-80.2789034!9m1!1b1')\n",
    "get_reviews('pcusa59','https://www.google.com/maps/place/First+Presbyterian+Church/@35.5935587,-82.5550325,17z/data=!4m7!3m6!1s0x8859f3572303a33d:0x3640fc808bbc1996!8m2!3d35.5934425!4d-82.552577!9m1!1b1')\n",
    "get_reviews('pcusa60','https://www.google.com/maps/place/Kenilworth+Presbyterian+Church/@35.5766926,-82.5401738,17z/data=!4m7!3m6!1s0x8859f36ac42f74f1:0x5cb3ffdb607429a2!8m2!3d35.5766839!4d-82.5380627!9m1!1b1')\n",
    "get_reviews('pcusa61','https://www.google.com/maps/place/Winter+Park+Presbyterian+Church/@34.2148762,-77.889217,17z/data=!4m7!3m6!1s0x89a9f5aa3da517ed:0x637cfb4ee809308b!8m2!3d34.2148268!4d-77.8870359!9m1!1b1')\n",
    "get_reviews('pcusa62','https://www.google.com/maps/place/Windermere+Presbyterian+Church/@34.2387151,-77.8514979,17z/data=!4m7!3m6!1s0x89a9f4bc90c526cd:0x7794e84d5d558207!8m2!3d34.2387107!4d-77.8493092!9m1!1b1')\n"
   ]
  },
  {
   "cell_type": "code",
   "execution_count": 14,
   "id": "7b0b7172",
   "metadata": {},
   "outputs": [
    {
     "name": "stdout",
     "output_type": "stream",
     "text": [
      "4\n",
      "3\n",
      "7\n",
      "28\n",
      "12\n",
      "11\n",
      "12\n",
      "5\n",
      "14\n",
      "7\n"
     ]
    }
   ],
   "source": [
    "get_reviews('pcusa63','https://www.google.com/maps/place/Washington+Avenue+Presbyterian+Church/@32.8382875,-83.6376687,17z/data=!4m7!3m6!1s0x88f3fe87fcd1da51:0xed2805db418ff7ba!8m2!3d32.8382943!4d-83.6354777!9m1!1b1')\n",
    "get_reviews('pcusa64','https://www.google.com/maps/place/First+Presbyterian+Church/@31.1443487,-81.4940682,17z/data=!4m7!3m6!1s0x88e4d83e5294595f:0x71b8bc1f865992d5!8m2!3d31.1444006!4d-81.4916985!9m1!1b1')\n",
    "get_reviews('pcusa65','https://www.google.com/maps/place/Light+of+Hope+Presbyterian+Church/@33.8629896,-84.6003453,17z/data=!4m7!3m6!1s0x88f517fbc95bf78b:0x9e13dddc914f5e63!8m2!3d33.8629536!4d-84.5981203!9m1!1b1')\n",
    "get_reviews('pcusa66','https://www.google.com/maps/place/First+Presbyterian+Church/@35.9937466,-78.9025772,17z/data=!4m7!3m6!1s0x89ace46e55000d35:0x6bd47c5a456e9e99!8m2!3d35.9936942!4d-78.8980994!9m1!1b1')\n",
    "get_reviews('pcusa67','https://www.google.com/maps/place/White+Memorial+Presbyterian+Church/@35.8067249,-78.6577291,17z/data=!3m1!5s0x89ac5f55e775b14b:0xf6f7cd5f2004c07e!4m7!3m6!1s0x89ac5f55e8945771:0x3863202ffbb32c8e!8m2!3d35.8067206!4d-78.6555404!9m1!1b1')\n",
    "get_reviews('pcusa68','https://www.google.com/maps/place/First+Presbyterian+Church/@35.1830191,-83.3878064,17z/data=!4m7!3m6!1s0x8859251ea46e15f9:0xae90a46561b933db!8m2!3d35.1827665!4d-83.3832193!9m1!1b1')\n",
    "get_reviews('pcusa69','https://www.google.com/maps/place/Westminster+Presbyterian+Church/@34.6003565,-86.9795127,17z/data=!4m7!3m6!1s0x88628686cc91a36d:0x671c6982ac0b782b!8m2!3d34.6005325!4d-86.9773221!9m1!1b1')\n",
    "get_reviews('pcusa70','https://www.google.com/maps/place/Covenant+Presbyterian+Church/@31.6011314,-84.2047978,17z/data=!4m7!3m6!1s0x88f27c19c88deacf:0x31fa8001c60b9999!8m2!3d31.6011973!4d-84.2026795!9m1!1b1')\n",
    "get_reviews('pcusa71','https://www.google.com/maps/place/First+Presbyterian+Church+of+Lake+City+FL/@30.1886256,-82.6500837,17z/data=!4m7!3m6!1s0x88ef397e5856e71f:0xa7f09764093f1ea!8m2!3d30.188621!4d-82.645599!9m1!1b1')\n",
    "get_reviews('pcusa72','https://www.google.com/maps/place/Highlands+United+Presbyterian/@30.3557109,-81.5222231,17z/data=!4m7!3m6!1s0x88e5b3526b51c23d:0x4e14396170ac745c!8m2!3d30.3557063!4d-81.5200344!9m1!1b1')\n",
    " "
   ]
  },
  {
   "cell_type": "code",
   "execution_count": 15,
   "id": "4a9a0f24",
   "metadata": {},
   "outputs": [
    {
     "name": "stdout",
     "output_type": "stream",
     "text": [
      "26\n",
      "13\n",
      "11\n",
      "11\n",
      "3\n",
      "8\n",
      "5\n",
      "5\n",
      "7\n",
      "13\n",
      "18\n",
      "5\n",
      "13\n",
      "13\n",
      "8\n",
      "7\n",
      "17\n"
     ]
    }
   ],
   "source": [
    "get_reviews('pcusa73','https://www.google.com/maps/place/Peace+Memorial+Concert+Series/@27.964374,-82.8026077,17z/data=!4m7!3m6!1s0x88c2f815f3f84233:0x265938acbf4465b7!8m2!3d27.964369!4d-82.8005239!9m1!1b1')\n",
    "get_reviews('pcusa74','https://www.google.com/maps/place/Trinity+Presbyterian+Church/@27.9622887,-82.7562895,17z/data=!4m7!3m6!1s0x88c2f0367c59baf3:0x7385409613928782!8m2!3d27.962224!4d-82.7538212!9m1!1b1')\n",
    "get_reviews('pcusa75','https://www.google.com/maps/place/First+Presbyterian+Church+of+Naples/@26.1439794,-81.8019923,17z/data=!4m7!3m6!1s0x88dae19f4eafcd21:0x5da0753f42fe36ab!8m2!3d26.1439746!4d-81.7998036!9m1!1b1')\n",
    "get_reviews('pcusa76','https://www.google.com/maps/place/Vanderbilt+Presbyterian+Church/@26.273544,-81.7688006,17z/data=!4m7!3m6!1s0x88db1c088db260b1:0x93c38809584e1733!8m2!3d26.2736956!4d-81.7666141!9m1!1b1')\n",
    "get_reviews('pcusa77','https://www.google.com/maps/place/Handsboro+Presbyterian+Church/@30.398819,-89.0303667,17z/data=!4m7!3m6!1s0x889c16c55cdbc6e9:0x264941e9def8e6df!8m2!3d30.3988144!4d-89.0282658!9m1!1b1')\n",
    "get_reviews('pcusa78','https://www.google.com/maps/place/Spring+Hill+Presbyterian+Church/@30.6897587,-88.1640754,17z/data=!4m7!3m6!1s0x889a4d5229e48d6d:0xef590efe60ecc02d!8m2!3d30.689844!4d-88.1617923!9m1!1b1')\n",
    "get_reviews('pcusa79','https://www.google.com/maps/place/First+Presbyterian+Church+of+Natchez/@31.5588215,-91.4049718,18.25z/data=!4m7!3m6!1s0x8625f71ded824a2b:0x76c489e51c507fa3!8m2!3d31.5587813!4d-91.4039479!9m1!1b1')\n",
    "get_reviews('pcusa80','https://www.google.com/maps/place/First+Presbyterian+Church/@34.3655499,-89.525469,17z/data=!4m7!3m6!1s0x88807afa7f9e2023:0x549fb893e93b3fc1!8m2!3d34.3655146!4d-89.5209909!9m1!1b1')\n",
    "get_reviews('pcusa81','https://www.google.com/maps/place/First+Presbyterian+Church/@35.6414072,-88.8328592,17z/data=!4m7!3m6!1s0x887ea129427a4ce3:0x1e4f7e8a5074c617!8m2!3d35.6417128!4d-88.8306684!9m1!1b1')\n",
    "get_reviews('pcusa82','https://www.google.com/maps/place/First+Presbyterian+Church/@36.5292521,-87.3606926,17z/data=!4m7!3m6!1s0x8864d9b65588eaa1:0xd39b810bf144a991!8m2!3d36.5293861!4d-87.3585537!9m1!1b1')\n",
    "get_reviews('pcusa83','https://www.google.com/maps/place/First+Presbyterian+Church,+Johnson+City,+TN/@36.3161154,-82.3574665,17z/data=!4m7!3m6!1s0x885a7cfca86cd031:0x586b8ececdd7f23c!8m2!3d36.3160771!4d-82.3550791!9m1!1b1')\n",
    "get_reviews('pcusa84','https://www.google.com/maps/place/First+Presbyterian+Church/@36.3468874,-82.2286403,17z/data=!4m7!3m6!1s0x885a7fe54c3728df:0x38345fab2e2d0965!8m2!3d36.3468831!4d-82.2264516!9m1!1b1')\n",
    "get_reviews('pcusa85','https://www.google.com/maps/place/First+Presbyterian+Church/@36.5500171,-82.5626378,17z/data=!4m7!3m6!1s0x885a92aa73ffe377:0x408c36cab5891224!8m2!3d36.5500129!4d-82.5581531!9m1!1b1')\n",
    "get_reviews('pcusa86','https://www.google.com/maps/place/Westminster+Presbyterian+Church/@34.9583416,-81.8958133,17z/data=!4m7!3m6!1s0x8857758ddeb2ed45:0x5a66f92f9c9c4d05!8m2!3d34.9583358!4d-81.8936356!9m1!1b1')\n",
    "get_reviews('pcusa87','https://www.google.com/maps/place/Second+Presbyterian+Church/@34.9571648,-81.9403169,17z/data=!4m7!3m6!1s0x885775f1f0590a7f:0xd84cacbb311202f0!8m2!3d34.9571604!4d-81.9381282!9m1!1b1')\n",
    "get_reviews('pcusa88','https://www.google.com/maps/place/Murrells+Inlet+Presbyterian+Church/@33.5514588,-79.0478339,17z/data=!4m7!3m6!1s0x890038ebb0d4c18d:0xa7073ca33649e34d!8m2!3d33.5514924!4d-79.0457496!9m1!1b1')\n",
    "get_reviews('pcusa89','https://www.google.com/maps/place/Highland+Presbyterian+Church/@35.0561924,-78.90086,17z/data=!4m7!3m6!1s0x89ab6cccc7748137:0xba9595229f5099f1!8m2!3d35.056186!4d-78.898594!9m1!1b1')\n"
   ]
  },
  {
   "cell_type": "code",
   "execution_count": 16,
   "id": "bb5bece4",
   "metadata": {},
   "outputs": [
    {
     "name": "stdout",
     "output_type": "stream",
     "text": [
      "115\n",
      "8\n",
      "4\n",
      "12\n",
      "15\n",
      "8\n",
      "5\n",
      "8\n",
      "5\n",
      "7\n"
     ]
    }
   ],
   "source": [
    "get_reviews('pcusa90','https://www.google.com/maps/place/Memorial+Presbyterian+Church/@29.8937899,-81.3188623,17z/data=!4m7!3m6!1s0x8639dfa70b71d8f1:0xf9c7899075a43631!8m2!3d29.8937853!4d-81.3166736!9m1!1b1')\n",
    "get_reviews('pcusa91','https://www.google.com/maps/place/Geneva+Presbyterian+Church/@30.0835835,-81.6384146,17z/data=!4m7!3m6!1s0x88e5ce25fd2aad93:0x3f253af1fbfcb296!8m2!3d30.0835789!4d-81.6362259!9m1!1b1')\n",
    "get_reviews('pcusa92','https://www.google.com/maps/place/Sugaw+Creek+Presbyterian+Church/@35.2590961,-80.7981051,17z/data=!4m7!3m6!1s0x88541e332c3a0ae1:0x4921a77f723d24c9!8m2!3d35.2591438!4d-80.7956114!9m1!1b1')\n",
    "get_reviews('pcusa93','https://www.google.com/maps/place/Mallard+Creek+Presbyterian+Church/@35.3345265,-80.7518341,17z/data=!4m7!3m6!1s0x88541c5b841e861d:0x72b1fbd67347b04!8m2!3d35.3345053!4d-80.7496156!9m1!1b1')\n",
    "get_reviews('pcusa94','https://www.google.com/maps/place/First+Presbyterian+Church/@32.4670698,-84.995897,17z/data=!4m7!3m6!1s0x888ccda4bc52bb4d:0xe787c96ed005ba3a!8m2!3d32.4670654!4d-84.9914123!9m1!1b1')\n",
    "get_reviews('pcusa95','https://www.google.com/maps/place/Carver+Heights+Presbyterian/@32.4613415,-84.9454137,17z/data=!4m7!3m6!1s0x888ccd35ad1d90db:0x1b8ca3f4e78314a6!8m2!3d32.461401!4d-84.9432427!9m1!1b1')\n",
    "get_reviews('pcusa96','https://www.google.com/maps/place/First+Presbyterian+Church/@34.5042692,-82.6565036,17z/data=!4m7!3m6!1s0x88586e7c0547630b:0x3c5e26cafb7f3f5c!8m2!3d34.5042648!4d-82.6543149!9m1!1b1')\n",
    "get_reviews('pcusa97','https://www.google.com/maps/place/First+Presbyterian+Church/@32.4174965,-81.7736647,17z/data=!4m7!3m6!1s0x88fa4731a350d49f:0xbf945edae60cb0bc!8m2!3d32.4174267!4d-81.7715573!9m1!1b1')\n",
    "get_reviews('pcusa98','https://www.google.com/maps/place/First+Presbyterian+Church/@35.9441693,-77.7980267,17z/data=!4m7!3m6!1s0x89ae87021b8e52dd:0xda1cb9554147cb!8m2!3d35.9442047!4d-77.7959834!9m1!1b1')\n",
    "get_reviews('pcusa99','https://www.google.com/maps/place/Forest+Hills+Presbyterian+Church/@35.9755578,-80.0409754,17z/data=!4m7!3m6!1s0x8853091c4d9e11a9:0x5c36f5c2ad94a20c!8m2!3d35.9755535!4d-80.0387867!9m1!1b1')\n"
   ]
  },
  {
   "cell_type": "code",
   "execution_count": null,
   "id": "44eca4d8",
   "metadata": {},
   "outputs": [],
   "source": []
  },
  {
   "cell_type": "code",
   "execution_count": null,
   "id": "4babe0f1",
   "metadata": {},
   "outputs": [],
   "source": []
  },
  {
   "cell_type": "code",
   "execution_count": null,
   "id": "da16ac22",
   "metadata": {},
   "outputs": [],
   "source": []
  },
  {
   "cell_type": "code",
   "execution_count": null,
   "id": "31fb0357",
   "metadata": {},
   "outputs": [],
   "source": []
  },
  {
   "cell_type": "code",
   "execution_count": null,
   "id": "073a8014",
   "metadata": {},
   "outputs": [],
   "source": []
  },
  {
   "cell_type": "code",
   "execution_count": null,
   "id": "bbd8b7a4",
   "metadata": {},
   "outputs": [],
   "source": []
  },
  {
   "cell_type": "code",
   "execution_count": null,
   "id": "55b62366",
   "metadata": {},
   "outputs": [],
   "source": []
  },
  {
   "cell_type": "code",
   "execution_count": null,
   "id": "43a27193",
   "metadata": {},
   "outputs": [],
   "source": []
  },
  {
   "cell_type": "code",
   "execution_count": null,
   "id": "a6e8ca03",
   "metadata": {},
   "outputs": [],
   "source": []
  },
  {
   "cell_type": "code",
   "execution_count": null,
   "id": "9ef26aaa",
   "metadata": {},
   "outputs": [],
   "source": []
  }
 ],
 "metadata": {
  "kernelspec": {
   "display_name": "isye6740",
   "language": "python",
   "name": "isye6740"
  },
  "language_info": {
   "codemirror_mode": {
    "name": "ipython",
    "version": 3
   },
   "file_extension": ".py",
   "mimetype": "text/x-python",
   "name": "python",
   "nbconvert_exporter": "python",
   "pygments_lexer": "ipython3",
   "version": "3.9.12"
  }
 },
 "nbformat": 4,
 "nbformat_minor": 5
}
