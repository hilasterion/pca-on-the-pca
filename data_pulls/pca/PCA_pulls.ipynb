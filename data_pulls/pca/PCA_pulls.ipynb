{
 "cells": [
  {
   "cell_type": "code",
   "execution_count": 1,
   "id": "9f00794c",
   "metadata": {},
   "outputs": [],
   "source": [
    "from selenium import webdriver\n",
    "from selenium.webdriver.common.by import By\n",
    "import pandas as pd \n",
    "import time"
   ]
  },
  {
   "cell_type": "code",
   "execution_count": 2,
   "id": "f0d6fdb3",
   "metadata": {},
   "outputs": [],
   "source": [
    "def get_reviews(churchname,url):\n",
    "    options = webdriver.ChromeOptions()\n",
    "    driver = webdriver.Chrome()\n",
    "    #url=\"\"\n",
    "    driver.get(url)\n",
    "    time.sleep(5)\n",
    "    \n",
    "    SCROLL_PAUSE_TIME = 5\n",
    "\n",
    "    # Get scroll height\n",
    "    last_height = driver.execute_script(\"return document.body.scrollHeight\")\n",
    "\n",
    "    number = 0\n",
    "    \n",
    "    while True:\n",
    "        number = number+1\n",
    "    \n",
    "        # Scroll down to bottom\n",
    "        ele = driver.find_element(\"xpath\", '//*[@id=\"QA0Szd\"]/div/div/div[1]/div[2]/div/div[1]/div/div/div[2]')\n",
    "        driver.execute_script('arguments[0].scrollBy(0, 5000);', ele)\n",
    "    \n",
    "        # Wait to load page\n",
    "    \n",
    "        time.sleep(SCROLL_PAUSE_TIME)\n",
    "     \n",
    "        ele = driver.find_element(\"xpath\",'//*[@id=\"QA0Szd\"]/div/div/div[1]/div[2]/div/div[1]/div/div/div[2]')\n",
    "    \n",
    "        new_height = driver.execute_script(\"return arguments[0].scrollHeight\", ele)\n",
    "    \n",
    "   \n",
    "        if number == 4:\n",
    "            break\n",
    "    \n",
    "        if new_height == last_height:\n",
    "            break\n",
    "    \n",
    "        last_height = new_height\n",
    "    \n",
    "    \n",
    "    item = driver.find_elements(\"xpath\",'//*[@id=\"QA0Szd\"]/div/div/div[1]/div[2]/div/div[1]/div/div/div[2]')\n",
    "    time.sleep(3)\n",
    "    \n",
    "    \n",
    "    name_list = []\n",
    "    stars_list = []\n",
    "    review_list = []\n",
    "    duration_list = []\n",
    "\n",
    "    for i in item:\n",
    "\n",
    "        button = i.find_elements(By.TAG_NAME, \"button\")\n",
    "        for m in button:\n",
    "            if m.text == \"More\":\n",
    "                m.click()\n",
    "        time.sleep(5)\n",
    "    \n",
    "        name = i.find_elements(By.CLASS_NAME,\"d4r55\")\n",
    "        stars = i.find_elements(By.CLASS_NAME,\"kvMYJc\")\n",
    "        review = i.find_elements(By.CLASS_NAME,\"wiI7pd\")\n",
    "        duration = i.find_elements(By.CLASS_NAME,\"rsqaWe\")\n",
    "    \n",
    "        for j,k,l,p in zip(name,stars,review,duration):\n",
    "            name_list.append(j.text)\n",
    "            stars_list.append(k.get_attribute(\"aria-label\"))\n",
    "            review_list.append(l.text)\n",
    "            duration_list.append(p.text) \n",
    "        \n",
    "    review = pd.DataFrame(\n",
    "    {'name': name_list,\n",
    "     'rating': stars_list,\n",
    "     'review': review_list,\n",
    "     'duration': duration_list})\n",
    "    review = review[review['review'] != \"\"]\n",
    "    print (len(review))\n",
    "\n",
    "    review.to_csv(churchname+'.csv',index=False)\n",
    "    driver.quit()\n",
    "    time.sleep(3) "
   ]
  },
  {
   "cell_type": "code",
   "execution_count": 3,
   "id": "99066bee",
   "metadata": {},
   "outputs": [
    {
     "name": "stdout",
     "output_type": "stream",
     "text": [
      "310\n"
     ]
    }
   ],
   "source": [
    "get_reviews('red_robin','https://www.google.com/maps/place/Red+Robin+Gourmet+Burgers+and+Brews/@35.068864,-80.8453392,17z/data=!4m7!3m6!1s0x88569d1780fea8cb:0x1bf88fe82ed88ef2!8m2!3d35.0687812!4d-80.8431918!9m1!1b1')"
   ]
  },
  {
   "cell_type": "code",
   "execution_count": 8,
   "id": "9b28bc0e",
   "metadata": {},
   "outputs": [
    {
     "name": "stdout",
     "output_type": "stream",
     "text": [
      "last height: 575\n",
      "last height: 2722\n"
     ]
    }
   ],
   "source": [
    "get_reviews('pca0','https://www.google.com/maps/place/Uptown+Church/@35.2195981,-80.8343554,15z/data=!4m7!3m6!1s0x0:0x19577cb3acdd47e6!8m2!3d35.2195981!4d-80.8343554!9m1!1b1')"
   ]
  },
  {
   "cell_type": "code",
   "execution_count": 20,
   "id": "d30e82a5",
   "metadata": {},
   "outputs": [
    {
     "name": "stdout",
     "output_type": "stream",
     "text": [
      "10\n"
     ]
    }
   ],
   "source": [
    "get_reviews('pca1','https://www.google.com/maps/place/Charlotte+Presbyterian+Church/@35.1812959,-80.866693,17z/data=!4m7!3m6!1s0x88569f035b3f9d2d:0x788653e528e60588!8m2!3d35.1812717!4d-80.8645291!9m1!1b1')"
   ]
  },
  {
   "cell_type": "code",
   "execution_count": 15,
   "id": "b1568a5d",
   "metadata": {},
   "outputs": [
    {
     "name": "stdout",
     "output_type": "stream",
     "text": [
      "5\n"
     ]
    }
   ],
   "source": [
    "get_reviews('pca2','https://www.google.com/maps/place/Christ+Ridge+Presbyterian+Church+(PCA)/@35.0630786,-80.971833,17z/data=!4m7!3m6!1s0x88569ab0e69caf73:0x9a0953bde0c39296!8m2!3d35.0630742!4d-80.9696443!9m1!1b1')"
   ]
  },
  {
   "cell_type": "code",
   "execution_count": 19,
   "id": "31676c3e",
   "metadata": {},
   "outputs": [
    {
     "name": "stdout",
     "output_type": "stream",
     "text": [
      "3\n"
     ]
    }
   ],
   "source": [
    "get_reviews('pca3','https://www.google.com/maps/place/Grace+Presbyterian+Church/@34.9295855,-80.763835,17z/data=!4m7!3m6!1s0x885429e83374b19b:0xa0d1729282f8d78a!8m2!3d34.9295394!4d-80.7617648!9m1!1b1')"
   ]
  },
  {
   "cell_type": "code",
   "execution_count": 17,
   "id": "fe0f0347",
   "metadata": {},
   "outputs": [
    {
     "name": "stdout",
     "output_type": "stream",
     "text": [
      "21\n"
     ]
    }
   ],
   "source": [
    "get_reviews('pca4','https://www.google.com/maps/place/Westminster+Presbyterian+Church+(PCA)/@34.9530903,-81.0351577,17z/data=!4m7!3m6!1s0x88568920a923a40f:0x4deb840338dcbc9e!8m2!3d34.9531358!4d-81.0306756!9m1!1b1')"
   ]
  },
  {
   "cell_type": "code",
   "execution_count": 18,
   "id": "b86fe930",
   "metadata": {},
   "outputs": [
    {
     "name": "stdout",
     "output_type": "stream",
     "text": [
      "6\n"
     ]
    }
   ],
   "source": [
    "get_reviews('pca5','https://www.google.com/maps/place/Sovereign+Grace+Presbyterian+Church/@35.1443767,-80.850475,17z/data=!4m7!3m6!1s0x88569e64a0f2e5a7:0x17d033874ee80865!8m2!3d35.1443756!4d-80.8483057!9m1!1b1')"
   ]
  },
  {
   "cell_type": "code",
   "execution_count": 21,
   "id": "42286835",
   "metadata": {},
   "outputs": [
    {
     "name": "stdout",
     "output_type": "stream",
     "text": [
      "37\n"
     ]
    }
   ],
   "source": [
    "get_reviews('pca6','https://www.google.com/maps/place/Christ+Covenant+Church/@35.1185995,-80.7342367,17z/data=!4m7!3m6!1s0x885426adea27fd8d:0x91f1b808e86f6148!8m2!3d35.1185951!4d-80.732048!9m1!1b1')"
   ]
  },
  {
   "cell_type": "code",
   "execution_count": 22,
   "id": "f2304b79",
   "metadata": {},
   "outputs": [
    {
     "name": "stdout",
     "output_type": "stream",
     "text": [
      "4\n"
     ]
    }
   ],
   "source": [
    "get_reviews('pca7','https://www.google.com/maps/place/Church+of+the+Redeemer/@35.0194936,-80.6747732,17z/data=!4m7!3m6!1s0x88542548a68827f1:0x2d71174afc778598!8m2!3d35.0194026!4d-80.6724916!9m1!1b1')"
   ]
  },
  {
   "cell_type": "code",
   "execution_count": 23,
   "id": "6303b927",
   "metadata": {},
   "outputs": [
    {
     "name": "stdout",
     "output_type": "stream",
     "text": [
      "12\n"
     ]
    }
   ],
   "source": [
    "get_reviews('pca8','https://www.google.com/maps/place/Prosperity+Presbyterian+Church/@35.3709454,-80.7901187,17z/data=!4m7!3m6!1s0x88541d409f01afb1:0x9c89edf73db5091d!8m2!3d35.370941!4d-80.78793!9m1!1b1')\n"
   ]
  },
  {
   "cell_type": "code",
   "execution_count": 24,
   "id": "b0704389",
   "metadata": {},
   "outputs": [
    {
     "name": "stdout",
     "output_type": "stream",
     "text": [
      "12\n"
     ]
    }
   ],
   "source": [
    "get_reviews('pca9','https://www.google.com/maps/place/Grace+Church/@35.3025567,-80.6117148,17z/data=!4m7!3m6!1s0x885410c76c1ead79:0x348e5683a181ee33!8m2!3d35.3025523!4d-80.6095261!9m1!1b1')\n"
   ]
  },
  {
   "cell_type": "code",
   "execution_count": 25,
   "id": "87dd3fe2",
   "metadata": {},
   "outputs": [
    {
     "name": "stdout",
     "output_type": "stream",
     "text": [
      "7\n"
     ]
    }
   ],
   "source": [
    "get_reviews('pca10','https://www.google.com/maps/place/Providence+Presbyterian+Church+(PCA)/@35.425116,-80.5799265,17z/data=!4m7!3m6!1s0x88541ad16ce8d0d1:0xa4b7e67b8ba3941e!8m2!3d35.4251116!4d-80.5777378!9m1!1b1')"
   ]
  },
  {
   "cell_type": "code",
   "execution_count": 26,
   "id": "dc57a4a1",
   "metadata": {},
   "outputs": [
    {
     "name": "stdout",
     "output_type": "stream",
     "text": [
      "10\n"
     ]
    }
   ],
   "source": [
    "get_reviews('pca11','https://www.google.com/maps/place/Meadowview+Reformed+Presbyterian+Church+-+PCA/@35.816348,-80.2904506,17z/data=!4m7!3m6!1s0x885397700c77639f:0xcb48d6e55690e919!8m2!3d35.8164386!4d-80.2882174!9m1!1b1')"
   ]
  },
  {
   "cell_type": "code",
   "execution_count": 27,
   "id": "7b05e2c3",
   "metadata": {},
   "outputs": [
    {
     "name": "stdout",
     "output_type": "stream",
     "text": [
      "9\n"
     ]
    }
   ],
   "source": [
    "get_reviews('pca12','https://www.google.com/maps/place/Redeemer+Presbyterian+Church/@36.0794341,-80.2782848,17z/data=!4m7!3m6!1s0x8853afd5c53a8181:0x4151ca04e3770297!8m2!3d36.0794253!4d-80.2736573!9m1!1b1')\n"
   ]
  },
  {
   "cell_type": "code",
   "execution_count": 28,
   "id": "6f053e4f",
   "metadata": {},
   "outputs": [
    {
     "name": "stdout",
     "output_type": "stream",
     "text": [
      "6\n"
     ]
    }
   ],
   "source": [
    "get_reviews('pca13','https://www.google.com/maps/place/Hope+Presbyterian+Church/@36.1200528,-80.31428,17z/data=!4m7!3m6!1s0x8853b18537d52bad:0xeaf165abf13fc1f9!8m2!3d36.1200485!4d-80.3120913!9m1!1b1')"
   ]
  },
  {
   "cell_type": "code",
   "execution_count": 29,
   "id": "73b15e06",
   "metadata": {},
   "outputs": [
    {
     "name": "stdout",
     "output_type": "stream",
     "text": [
      "14\n"
     ]
    }
   ],
   "source": [
    "get_reviews('pca14','https://www.google.com/maps/place/Salem+Presbyterian+Church/@36.0961766,-80.2520393,17z/data=!4m7!3m6!1s0x8853ae4b848baf63:0x573526df47eaed08!8m2!3d36.0963528!4d-80.2498852!9m1!1b1')"
   ]
  },
  {
   "cell_type": "code",
   "execution_count": 30,
   "id": "f1949872",
   "metadata": {},
   "outputs": [
    {
     "name": "stdout",
     "output_type": "stream",
     "text": [
      "3\n"
     ]
    }
   ],
   "source": [
    "get_reviews('pca15','https://www.google.com/maps/place/Friendly+Hills+Church/@36.0368867,-79.9238638,17z/data=!4m7!3m6!1s0x8853192fc10d31c5:0x91cdf515faa5a45d!8m2!3d36.0369647!4d-79.9216586!9m1!1b1')\n"
   ]
  },
  {
   "cell_type": "code",
   "execution_count": 31,
   "id": "7a8f3f9d",
   "metadata": {},
   "outputs": [
    {
     "name": "stdout",
     "output_type": "stream",
     "text": [
      "10\n"
     ]
    }
   ],
   "source": [
    "get_reviews('pca16','https://www.google.com/maps/place/Christ+Church+Greensboro/@36.0782289,-79.7908832,17z/data=!4m7!3m6!1s0x8853192852ae5489:0x49c5dbaa5cb4464f!8m2!3d36.078004!4d-79.7863788!9m1!1b1')\n"
   ]
  },
  {
   "cell_type": "code",
   "execution_count": 32,
   "id": "331055e1",
   "metadata": {},
   "outputs": [
    {
     "name": "stdout",
     "output_type": "stream",
     "text": [
      "8\n"
     ]
    }
   ],
   "source": [
    "get_reviews('pca17','https://www.google.com/maps/place/Christ+Central+Church/@36.0057763,-78.8958648,17z/data=!4m7!3m6!1s0x89ace469d253e5ed:0xa50a4df0d38cec62!8m2!3d36.005772!4d-78.8936761!9m1!1b1')\n"
   ]
  },
  {
   "cell_type": "code",
   "execution_count": 33,
   "id": "a66e0209",
   "metadata": {},
   "outputs": [
    {
     "name": "stdout",
     "output_type": "stream",
     "text": [
      "8\n"
     ]
    }
   ],
   "source": [
    "get_reviews('pca18','https://www.google.com/maps/place/Church+of+the+Good+Shepherd/@35.9704403,-78.9778667,17z/data=!4m7!3m6!1s0x89ace7aa88008eb1:0xdc06e077f1666731!8m2!3d35.9705365!4d-78.9755417!9m1!1b1')\n"
   ]
  },
  {
   "cell_type": "code",
   "execution_count": 34,
   "id": "8ab41c7c",
   "metadata": {},
   "outputs": [
    {
     "name": "stdout",
     "output_type": "stream",
     "text": [
      "6\n"
     ]
    }
   ],
   "source": [
    "get_reviews('pca19','https://www.google.com/maps/place/Redeemer+Presbyterian+Church+PCA/@35.9040631,-78.6892733,17z/data=!4m7!3m6!1s0x89acf826d8620069:0x3cbfd8bbcbcb8e27!8m2!3d35.9040429!4d-78.6870201!9m1!1b1')\n"
   ]
  },
  {
   "cell_type": "code",
   "execution_count": 35,
   "id": "f8671fcd",
   "metadata": {},
   "outputs": [
    {
     "name": "stdout",
     "output_type": "stream",
     "text": [
      "12\n"
     ]
    }
   ],
   "source": [
    "get_reviews('pca20','https://www.google.com/maps/place/Christ+the+King+Presbyterian+Church/@35.7985178,-78.6287366,17z/data=!4m7!3m6!1s0x89acf58cbd50e4bf:0x4131522998eab32a!8m2!3d35.7984718!4d-78.6265075!9m1!1b1')\n"
   ]
  },
  {
   "cell_type": "code",
   "execution_count": 36,
   "id": "c925ade0",
   "metadata": {},
   "outputs": [
    {
     "name": "stdout",
     "output_type": "stream",
     "text": [
      "4\n"
     ]
    }
   ],
   "source": [
    "get_reviews('pca21','https://www.google.com/maps/place/Christ+Covenant+Church+PCA/@34.0291681,-80.9949724,17z/data=!4m7!3m6!1s0x88f8a563f7f1ada9:0x65933f49b0613306!8m2!3d34.0291637!4d-80.9927837!9m1!1b1')\n"
   ]
  },
  {
   "cell_type": "code",
   "execution_count": 37,
   "id": "4eb4502f",
   "metadata": {},
   "outputs": [
    {
     "name": "stdout",
     "output_type": "stream",
     "text": [
      "8\n"
     ]
    }
   ],
   "source": [
    "get_reviews('pca22','https://www.google.com/maps/place/Cornerstone+Presbyterian+Church/@34.0518174,-81.1927367,17z/data=!4m7!3m6!1s0x88f8985c329dde95:0x2c3f556f748dc8c2!8m2!3d34.051813!4d-81.188252!9m1!1b1')\n"
   ]
  },
  {
   "cell_type": "code",
   "execution_count": 38,
   "id": "1fab7fd7",
   "metadata": {},
   "outputs": [
    {
     "name": "stdout",
     "output_type": "stream",
     "text": [
      "9\n"
     ]
    }
   ],
   "source": [
    "get_reviews('pca23','https://www.google.com/maps/place/Metro+North+Church/@33.0080736,-80.0427277,17z/data=!4m7!3m6!1s0x88fe60ee4fd7a197:0xc7f85d654093731d!8m2!3d33.0080691!4d-80.040539!9m1!1b1')\n"
   ]
  },
  {
   "cell_type": "code",
   "execution_count": 39,
   "id": "39f378e6",
   "metadata": {},
   "outputs": [
    {
     "name": "stdout",
     "output_type": "stream",
     "text": [
      "7\n"
     ]
    }
   ],
   "source": [
    "get_reviews('pca24','https://www.google.com/maps/place/Church+Creek+Presbyterian/@32.8369225,-80.0522927,17z/data=!4m7!3m6!1s0x88fe7ce0f8e847c3:0x59817fe3bd9b9cbb!8m2!3d32.836918!4d-80.050104!9m1!1b1')\n"
   ]
  },
  {
   "cell_type": "code",
   "execution_count": 40,
   "id": "6ed73ddb",
   "metadata": {},
   "outputs": [
    {
     "name": "stdout",
     "output_type": "stream",
     "text": [
      "10\n"
     ]
    }
   ],
   "source": [
    "get_reviews('pca25','https://www.google.com/maps/place/Redeemer+Presbyterian+Church/@32.7835637,-79.9332374,17z/data=!4m7!3m6!1s0x88fe7a12908d3201:0x6f02b51c9bae39d!8m2!3d32.7836062!4d-79.9310746!9m1!1b1')\n"
   ]
  },
  {
   "cell_type": "code",
   "execution_count": 41,
   "id": "ff848fc4",
   "metadata": {},
   "outputs": [
    {
     "name": "stdout",
     "output_type": "stream",
     "text": [
      "3\n"
     ]
    }
   ],
   "source": [
    "get_reviews('pca26','https://www.google.com/maps/place/Christ+Church+Presbyterian/@32.8421586,-79.8720285,17z/data=!4m7!3m6!1s0x88fe7a10502dadab:0x1a503ac933245875!8m2!3d32.8421541!4d-79.8698398!9m1!1b1')\n"
   ]
  },
  {
   "cell_type": "code",
   "execution_count": 42,
   "id": "bdc68ace",
   "metadata": {},
   "outputs": [
    {
     "name": "stdout",
     "output_type": "stream",
     "text": [
      "4\n"
     ]
    }
   ],
   "source": [
    "get_reviews('pca27','https://www.google.com/maps/place/Eastbridge+Presbyterian+Church/@32.8646788,-79.790651,17z/data=!4m7!3m6!1s0x88fe6da1bd67dac9:0x6ac60a86f38b82de!8m2!3d32.8647115!4d-79.7884089!9m1!1b1')\n"
   ]
  },
  {
   "cell_type": "code",
   "execution_count": 43,
   "id": "535621f8",
   "metadata": {},
   "outputs": [
    {
     "name": "stdout",
     "output_type": "stream",
     "text": [
      "11\n"
     ]
    }
   ],
   "source": [
    "get_reviews('pca28','https://www.google.com/maps/place/Downtown+Presbyterian+Church/@34.8522491,-82.409056,17z/data=!4m7!3m6!1s0x885831ceb3af7f0d:0xff5e2e64542dd270!8m2!3d34.8522448!4d-82.4045713!9m1!1b1')\n"
   ]
  },
  {
   "cell_type": "code",
   "execution_count": 44,
   "id": "9a39e09a",
   "metadata": {},
   "outputs": [
    {
     "name": "stdout",
     "output_type": "stream",
     "text": [
      "21\n"
     ]
    }
   ],
   "source": [
    "get_reviews('pca29','https://www.google.com/maps/place/Second+Presbyterian+Church/@34.8455275,-82.4067747,17z/data=!4m7!3m6!1s0x88583034aad2ac8b:0x6a7e4865ad5809e3!8m2!3d34.8455231!4d-82.404586!9m1!1b1')\n"
   ]
  },
  {
   "cell_type": "code",
   "execution_count": 45,
   "id": "8fee5bfa",
   "metadata": {},
   "outputs": [
    {
     "name": "stdout",
     "output_type": "stream",
     "text": [
      "8\n"
     ]
    }
   ],
   "source": [
    "get_reviews('pca30','https://www.google.com/maps/place/Providence+Presbyterian+Church/@34.959528,-81.8655276,17z/data=!4m7!3m6!1s0x88570ab41adc7d45:0xbc6e9d5292cea9a9!8m2!3d34.9595242!4d-81.8610414!9m1!1b1')\n"
   ]
  },
  {
   "cell_type": "code",
   "execution_count": 46,
   "id": "49f94747",
   "metadata": {},
   "outputs": [
    {
     "name": "stdout",
     "output_type": "stream",
     "text": [
      "18\n"
     ]
    }
   ],
   "source": [
    "get_reviews('pca31','https://www.google.com/maps/place/First+Presbyterian+Augusta/@33.4705601,-81.9669109,17z/data=!4m7!3m6!1s0x88f9cc729dfc340b:0xede33f4c20ae165!8m2!3d33.4704305!4d-81.9647863!9m1!1b1')\n"
   ]
  },
  {
   "cell_type": "code",
   "execution_count": 47,
   "id": "c8b0f0e5",
   "metadata": {},
   "outputs": [
    {
     "name": "stdout",
     "output_type": "stream",
     "text": [
      "4\n"
     ]
    }
   ],
   "source": [
    "get_reviews('pca32','https://www.google.com/maps/place/Cliffwood+Presbyterian+Church/@33.4237848,-82.0486626,17z/data=!4m7!3m6!1s0x88f9d1dbfeb524ff:0xedc3484badf3ab63!8m2!3d33.4236746!4d-82.0462873!9m1!1b1')\n"
   ]
  },
  {
   "cell_type": "code",
   "execution_count": 48,
   "id": "6f5a7f25",
   "metadata": {},
   "outputs": [
    {
     "name": "stdout",
     "output_type": "stream",
     "text": [
      "7\n"
     ]
    }
   ],
   "source": [
    "get_reviews('pca33','https://www.google.com/maps/place/Westminster+Presbyterian+Church/@33.4883428,-82.1279435,17z/data=!4m7!3m6!1s0x88f9d388c76b9727:0x6891d3461a59c79f!8m2!3d33.4883384!4d-82.1234588!9m1!1b1')\n"
   ]
  },
  {
   "cell_type": "code",
   "execution_count": 49,
   "id": "26368059",
   "metadata": {},
   "outputs": [
    {
     "name": "stdout",
     "output_type": "stream",
     "text": [
      "9\n"
     ]
    }
   ],
   "source": [
    "get_reviews('pca34','https://www.google.com/maps/place/Redeemer+Presbyterian+Church/@33.5500384,-82.2180375,17z/data=!4m7!3m6!1s0x88f77ffff028b717:0x7ce0d1dacb95a799!8m2!3d33.5499445!4d-82.215853!9m1!1b1')\n"
   ]
  },
  {
   "cell_type": "code",
   "execution_count": 50,
   "id": "16d6f297",
   "metadata": {},
   "outputs": [
    {
     "name": "stdout",
     "output_type": "stream",
     "text": [
      "10\n"
     ]
    }
   ],
   "source": [
    "get_reviews('pca35','https://www.google.com/maps/place/The+Kirk+Presbyterian/@32.0411,-81.080193,17z/data=!4m7!3m6!1s0x88fb75a4c0c37b9d:0x1906383995a13f4c!8m2!3d32.0410955!4d-81.0780043!9m1!1b1')\n"
   ]
  },
  {
   "cell_type": "code",
   "execution_count": 51,
   "id": "d635ca3c",
   "metadata": {},
   "outputs": [
    {
     "name": "stdout",
     "output_type": "stream",
     "text": [
      "5\n"
     ]
    }
   ],
   "source": [
    "get_reviews('pca36','https://www.google.com/maps/place/Chapel-In-The-Gardens+PCA/@32.1175875,-81.1515157,17z/data=!4m7!3m6!1s0x88fb9f43b0e15847:0x3058cfbacb495d34!8m2!3d32.1175889!4d-81.1492963!9m1!1b1')\n"
   ]
  },
  {
   "cell_type": "code",
   "execution_count": 52,
   "id": "7d68940a",
   "metadata": {},
   "outputs": [
    {
     "name": "stdout",
     "output_type": "stream",
     "text": [
      "11\n"
     ]
    }
   ],
   "source": [
    "get_reviews('pca37','https://www.google.com/maps/place/Redeemer+Presbyterian+Church+(PCA)/@33.9571553,-83.3827257,17z/data=!4m7!3m6!1s0x88f66d209492e71f:0x7641583725d64588!8m2!3d33.9572258!4d-83.3805604!9m1!1b1')\n"
   ]
  },
  {
   "cell_type": "code",
   "execution_count": 53,
   "id": "fe3828eb",
   "metadata": {},
   "outputs": [
    {
     "name": "stdout",
     "output_type": "stream",
     "text": [
      "5\n"
     ]
    }
   ],
   "source": [
    "get_reviews('pca38','https://www.google.com/maps/place/Westminster+Presbyterian+Church/@34.3205357,-83.8352939,17z/data=!4m7!3m6!1s0x88f5f6657ea151bd:0x81f211b862cf6b8!8m2!3d34.3205191!4d-83.8331357!9m1!1b1')\n"
   ]
  },
  {
   "cell_type": "code",
   "execution_count": 54,
   "id": "355e9142",
   "metadata": {},
   "outputs": [
    {
     "name": "stdout",
     "output_type": "stream",
     "text": [
      "8\n"
     ]
    }
   ],
   "source": [
    "get_reviews('pca39','https://www.google.com/maps/place/Old+Peachtree+Presbyterian+Church/@34.0156438,-84.0980497,17z/data=!4m7!3m6!1s0x88f597fe83ee20c7:0x43d569c94e05f223!8m2!3d34.0157352!4d-84.0959919!9m1!1b1')\n"
   ]
  },
  {
   "cell_type": "code",
   "execution_count": 55,
   "id": "61e20f26",
   "metadata": {},
   "outputs": [
    {
     "name": "stdout",
     "output_type": "stream",
     "text": [
      "92\n"
     ]
    }
   ],
   "source": [
    "get_reviews('pca40','https://www.google.com/maps/place/Perimeter+Church/@34.0129851,-84.1980116,17z/data=!4m7!3m6!1s0x88f5a1fcf355560f:0x8e5134a54c7487bf!8m2!3d34.0129871!4d-84.1957959!9m1!1b1')\n"
   ]
  },
  {
   "cell_type": "code",
   "execution_count": 56,
   "id": "fb40428b",
   "metadata": {},
   "outputs": [
    {
     "name": "stdout",
     "output_type": "stream",
     "text": [
      "14\n"
     ]
    }
   ],
   "source": [
    "get_reviews('pca41','https://www.google.com/maps/place/ChristChurch+Presbyterian+Church/@33.8016924,-84.3952777,17z/data=!4m7!3m6!1s0x88f505af176cdadb:0xd9a12d1665506af4!8m2!3d33.801688!4d-84.393089!9m1!1b1')\n"
   ]
  },
  {
   "cell_type": "code",
   "execution_count": 57,
   "id": "b0007362",
   "metadata": {},
   "outputs": [
    {
     "name": "stdout",
     "output_type": "stream",
     "text": [
      "18\n"
     ]
    }
   ],
   "source": [
    "get_reviews('pca42','https://www.google.com/maps/place/Smyrna+Presbyterian+Church+(PCA)/@33.8769535,-84.5104173,17z/data=!4m7!3m6!1s0x88f510c7122cfa23:0xdeb56127888c3b86!8m2!3d33.8768752!4d-84.508378!9m1!1b1')\n"
   ]
  },
  {
   "cell_type": "code",
   "execution_count": 58,
   "id": "c880ba57",
   "metadata": {},
   "outputs": [
    {
     "name": "stdout",
     "output_type": "stream",
     "text": [
      "8\n"
     ]
    }
   ],
   "source": [
    "get_reviews('pca43','https://www.google.com/maps/place/East+Cobb+Presbyterian+Church/@33.9905198,-84.4185525,17z/data=!4m7!3m6!1s0x88f50d733859108d:0xe6bf738ac96f1574!8m2!3d33.9906334!4d-84.416392!9m1!1b1')\n"
   ]
  },
  {
   "cell_type": "code",
   "execution_count": 59,
   "id": "7e04b88f",
   "metadata": {},
   "outputs": [
    {
     "name": "stdout",
     "output_type": "stream",
     "text": [
      "3\n"
     ]
    }
   ],
   "source": [
    "get_reviews('pca44','https://www.google.com/maps/place/Riverside+Community+Church+PCA/@34.1517449,-84.8134009,17z/data=!4m7!3m6!1s0x88f54f210cdac02d:0x18cb8643afc797e4!8m2!3d34.1517405!4d-84.8112122!9m1!1b1')\n"
   ]
  },
  {
   "cell_type": "code",
   "execution_count": 60,
   "id": "cabd77e5",
   "metadata": {},
   "outputs": [
    {
     "name": "stdout",
     "output_type": "stream",
     "text": [
      "19\n"
     ]
    }
   ],
   "source": [
    "get_reviews('pca45','https://www.google.com/maps/place/Lookout+Mountain+Presbyterian+Church+PCA/@34.9991001,-85.3501712,17z/data=!4m7!3m6!1s0x88605c7c7a1789f7:0x76c4127ed0cf4ad0!8m2!3d34.9989151!4d-85.3474596!9m1!1b1')\n"
   ]
  },
  {
   "cell_type": "code",
   "execution_count": 61,
   "id": "8fc51fcf",
   "metadata": {},
   "outputs": [
    {
     "name": "stdout",
     "output_type": "stream",
     "text": [
      "38\n"
     ]
    }
   ],
   "source": [
    "get_reviews('pca46','https://www.google.com/maps/place/New+City+Fellowship/@35.0370935,-85.2656406,17z/data=!4m7!3m6!1s0x886060ad090b74e7:0x5c4b6ebdf70f42ba!8m2!3d35.0374118!4d-85.2632724!9m1!1b1')\n"
   ]
  },
  {
   "cell_type": "code",
   "execution_count": 62,
   "id": "c94dc598",
   "metadata": {},
   "outputs": [
    {
     "name": "stdout",
     "output_type": "stream",
     "text": [
      "6\n"
     ]
    }
   ],
   "source": [
    "get_reviews('pca47','https://www.google.com/maps/place/Wayside+Presbyterian+Church/@35.1635238,-85.3177956,17z/data=!4m7!3m6!1s0x8860f500a676d397:0xe8132552cd4c9650!8m2!3d35.1635234!4d-85.3132861!9m1!1b1')\n"
   ]
  },
  {
   "cell_type": "code",
   "execution_count": 63,
   "id": "43d99206",
   "metadata": {},
   "outputs": [
    {
     "name": "stdout",
     "output_type": "stream",
     "text": [
      "9\n"
     ]
    }
   ],
   "source": [
    "get_reviews('pca48','https://www.google.com/maps/place/Redeemer+Church+of+Knoxville/@35.9598088,-83.9359917,17z/data=!4m7!3m6!1s0x885c3d604539e44b:0x45efcca847452ce9!8m2!3d35.9598823!4d-83.933839!9m1!1b1')"
   ]
  },
  {
   "cell_type": "code",
   "execution_count": 64,
   "id": "5be4151f",
   "metadata": {},
   "outputs": [
    {
     "name": "stdout",
     "output_type": "stream",
     "text": [
      "4\n"
     ]
    }
   ],
   "source": [
    "get_reviews('pca49','https://www.google.com/maps/place/West+Hills+Presbyterian+Church/@35.9357038,-84.041193,17z/data=!4m7!3m6!1s0x885c24c51ebb6783:0x6b611e99cf3c6b8e!8m2!3d35.935764!4d-84.0390716!9m1!1b1')"
   ]
  },
  {
   "cell_type": "code",
   "execution_count": 65,
   "id": "658a70d3",
   "metadata": {},
   "outputs": [
    {
     "name": "stdout",
     "output_type": "stream",
     "text": [
      "8\n"
     ]
    }
   ],
   "source": [
    "get_reviews('pca50','https://www.google.com/maps/place/Covenant+Presbyterian+Church/@35.9883957,-84.2215155,17z/data=!4m7!3m6!1s0x885c336bffbc7147:0x87024971da69cea9!8m2!3d35.9881802!4d-84.2193461!9m1!1b1')"
   ]
  },
  {
   "cell_type": "code",
   "execution_count": 66,
   "id": "12360f3d",
   "metadata": {},
   "outputs": [
    {
     "name": "stdout",
     "output_type": "stream",
     "text": [
      "6\n"
     ]
    }
   ],
   "source": [
    "get_reviews('pca51','https://www.google.com/maps/place/Westminster+Presbyterian+Church/@36.3409845,-82.4013076,17z/data=!4m7!3m6!1s0x885a62c8b8f0d2bb:0x43f163e4517ce3a7!8m2!3d36.3409802!4d-82.3991189!9m1!1b1')"
   ]
  },
  {
   "cell_type": "code",
   "execution_count": 67,
   "id": "33a1c257",
   "metadata": {},
   "outputs": [
    {
     "name": "stdout",
     "output_type": "stream",
     "text": [
      "5\n"
     ]
    }
   ],
   "source": [
    "get_reviews('pca52','https://www.google.com/maps/place/Walnut+Hill+Presbyterian+Church/@36.5707528,-82.2612204,17z/data=!4m7!3m6!1s0x885a9cfe34ac3def:0x769fd420f44e8d9f!8m2!3d36.5707641!4d-82.2590449!9m1!1b1')"
   ]
  },
  {
   "cell_type": "code",
   "execution_count": 68,
   "id": "ae8ffdce",
   "metadata": {},
   "outputs": [
    {
     "name": "stdout",
     "output_type": "stream",
     "text": [
      "3\n"
     ]
    }
   ],
   "source": [
    "get_reviews('pca53','https://www.google.com/maps/place/Midtown+Fellowship+-+Granny+White/@36.1130925,-86.7938966,17z/data=!4m7!3m6!1s0x886464378d54c0df:0x9131d3b932d1e2c4!8m2!3d36.1130755!4d-86.79171!9m1!1b1')"
   ]
  },
  {
   "cell_type": "code",
   "execution_count": 69,
   "id": "2b1e6423",
   "metadata": {},
   "outputs": [
    {
     "name": "stdout",
     "output_type": "stream",
     "text": [
      "3\n"
     ]
    }
   ],
   "source": [
    "get_reviews('pca54','https://www.google.com/maps/place/City+Church+of+East+Nashville/@36.1752692,-86.7600638,17z/data=!4m7!3m6!1s0x8864686931064d43:0x4b63d131e9c3846e!8m2!3d36.1752649!4d-86.7578751!9m1!1b1')"
   ]
  },
  {
   "cell_type": "code",
   "execution_count": 70,
   "id": "cc7f37b4",
   "metadata": {},
   "outputs": [
    {
     "name": "stdout",
     "output_type": "stream",
     "text": [
      "22\n"
     ]
    }
   ],
   "source": [
    "get_reviews('pca55','https://www.google.com/maps/place/West+End+Community+Church/@36.1413932,-86.8616331,17z/data=!4m7!3m6!1s0x886461792890e551:0x79b26668e2e13b09!8m2!3d36.1413889!4d-86.8594444!9m1!1b1')"
   ]
  },
  {
   "cell_type": "code",
   "execution_count": 71,
   "id": "8830cc02",
   "metadata": {},
   "outputs": [
    {
     "name": "stdout",
     "output_type": "stream",
     "text": [
      "8\n"
     ]
    }
   ],
   "source": [
    "get_reviews('pca56','https://www.google.com/maps/place/Zion+Presbyterian+Church/@35.5993155,-87.1471318,17z/data=!4m7!3m6!1s0x88636bf4e05ae6ab:0xa0d4de869e7f4a9f!8m2!3d35.59932!4d-87.1449474!9m1!1b1')"
   ]
  },
  {
   "cell_type": "code",
   "execution_count": 72,
   "id": "ad793669",
   "metadata": {},
   "outputs": [
    {
     "name": "stdout",
     "output_type": "stream",
     "text": [
      "7\n"
     ]
    }
   ],
   "source": [
    "get_reviews('pca57','https://www.google.com/maps/place/Cornerstone+Presbyterian+Church/@35.9237653,-86.8703827,17z/data=!4m7!3m6!1s0x88647e515939e02b:0x6d087dd0646cc341!8m2!3d35.9237624!4d-86.8681912!9m1!1b1')"
   ]
  },
  {
   "cell_type": "code",
   "execution_count": 73,
   "id": "8a3a276e",
   "metadata": {},
   "outputs": [
    {
     "name": "stdout",
     "output_type": "stream",
     "text": [
      "10\n"
     ]
    }
   ],
   "source": [
    "get_reviews('pca58','https://www.google.com/maps/place/North+Hills+Presbyterian+Church/@34.839714,-86.5754568,17z/data=!4m7!3m6!1s0x886240759b381f09:0xb7f42eeb1953cd1b!8m2!3d34.8397096!4d-86.5732681!9m1!1b1')"
   ]
  },
  {
   "cell_type": "code",
   "execution_count": 74,
   "id": "27232f7d",
   "metadata": {},
   "outputs": [
    {
     "name": "stdout",
     "output_type": "stream",
     "text": [
      "3\n"
     ]
    }
   ],
   "source": [
    "get_reviews('pca59','https://www.google.com/maps/place/The+Village+Church/@34.7508145,-86.5887986,17z/data=!4m7!3m6!1s0x88626b3667abbca1:0xac7428030f854fd9!8m2!3d34.7508182!4d-86.5866101!9m1!1b1')"
   ]
  },
  {
   "cell_type": "code",
   "execution_count": 75,
   "id": "c594abb5",
   "metadata": {},
   "outputs": [
    {
     "name": "stdout",
     "output_type": "stream",
     "text": [
      "6\n"
     ]
    }
   ],
   "source": [
    "get_reviews('pca60','https://www.google.com/maps/place/Southwood+Presbyterian+Church/@34.6866905,-86.5604936,17z/data=!4m7!3m6!1s0x8862131929ed3d5b:0x3a925da07b22e61b!8m2!3d34.6865084!4d-86.5582285!9m1!1b1')"
   ]
  },
  {
   "cell_type": "code",
   "execution_count": 76,
   "id": "fe88af06",
   "metadata": {},
   "outputs": [
    {
     "name": "stdout",
     "output_type": "stream",
     "text": [
      "10\n"
     ]
    }
   ],
   "source": [
    "get_reviews('pca61','https://www.google.com/maps/place/Valley+Presbyterian+Church/@34.7207421,-86.7427853,17z/data=!4m7!3m6!1s0x88626f57e9ce822f:0x3f0ba0baf11e8925!8m2!3d34.720729!4d-86.7403463!9m1!1b1')"
   ]
  },
  {
   "cell_type": "code",
   "execution_count": 77,
   "id": "09619d8a",
   "metadata": {},
   "outputs": [
    {
     "name": "stdout",
     "output_type": "stream",
     "text": [
      "8\n"
     ]
    }
   ],
   "source": [
    "get_reviews('pca62','https://www.google.com/maps/place/Decatur+Presbyterian+Church/@34.5615376,-87.0303355,17z/data=!3m1!5s0x8862848205a4a895:0x95d6819461e9cfd5!4m7!3m6!1s0x8862848262be33f1:0x6af371f34daba8b4!8m2!3d34.5615332!4d-87.0281468!9m1!1b1')"
   ]
  },
  {
   "cell_type": "code",
   "execution_count": 78,
   "id": "079ea372",
   "metadata": {},
   "outputs": [
    {
     "name": "stdout",
     "output_type": "stream",
     "text": [
      "9\n"
     ]
    }
   ],
   "source": [
    "get_reviews('pca63','https://www.google.com/maps/place/Rainbow+Presbyterian+Church/@33.9604037,-86.0338351,17z/data=!4m7!3m6!1s0x888a3bcbb2e33033:0xd75f839f30484ebd!8m2!3d33.9602065!4d-86.0316333!9m1!1b1')"
   ]
  },
  {
   "cell_type": "code",
   "execution_count": 79,
   "id": "412ce1c7",
   "metadata": {},
   "outputs": [
    {
     "name": "stdout",
     "output_type": "stream",
     "text": [
      "18\n"
     ]
    }
   ],
   "source": [
    "get_reviews('pca64','https://www.google.com/maps/place/Covenant+Presbyterian+Church,+PCA/@33.4638285,-86.7845247,17z/data=!4m7!3m6!1s0x8889199fff3d29e3:0x45f56fba3868a3aa!8m2!3d33.463824!4d-86.782336!9m1!1b1')"
   ]
  },
  {
   "cell_type": "code",
   "execution_count": 80,
   "id": "cc4d42b3",
   "metadata": {},
   "outputs": [
    {
     "name": "stdout",
     "output_type": "stream",
     "text": [
      "130\n"
     ]
    }
   ],
   "source": [
    "get_reviews('pca65','https://www.google.com/maps/place/Briarwood+Presbyterian+Church,+PCA/@33.4174874,-86.7621887,17z/data=!4m7!3m6!1s0x88891814be689665:0x3789447e097175ca!8m2!3d33.4174829!4d-86.76!9m1!1b1')"
   ]
  },
  {
   "cell_type": "code",
   "execution_count": 81,
   "id": "3aef7a12",
   "metadata": {},
   "outputs": [
    {
     "name": "stdout",
     "output_type": "stream",
     "text": [
      "9\n"
     ]
    }
   ],
   "source": [
    "get_reviews('pca66','https://www.google.com/maps/place/Altadena+Valley+Presbyterian+Church/@33.4258171,-86.738872,17z/data=!4m7!3m6!1s0x8889186c387b8d6b:0xcf82ea37822f7b62!8m2!3d33.4256675!4d-86.7366531!9m1!1b1')"
   ]
  },
  {
   "cell_type": "code",
   "execution_count": 82,
   "id": "de4a235d",
   "metadata": {},
   "outputs": [
    {
     "name": "stdout",
     "output_type": "stream",
     "text": [
      "7\n"
     ]
    }
   ],
   "source": [
    "get_reviews('pca67','https://www.google.com/maps/place/Riverwood+Presbyterian+Church/@33.2413095,-87.5443626,17z/data=!4m7!3m6!1s0x88861d566163a2e1:0xb43ba30be78cadc2!8m2!3d33.2413049!4d-87.542041!9m1!1b1')"
   ]
  },
  {
   "cell_type": "code",
   "execution_count": 83,
   "id": "c7e66153",
   "metadata": {},
   "outputs": [
    {
     "name": "stdout",
     "output_type": "stream",
     "text": [
      "5\n"
     ]
    }
   ],
   "source": [
    "get_reviews('pca68','https://www.google.com/maps/place/Trinity+Presbyterian+Church/@32.6675866,-85.3912295,17z/data=!4m7!3m6!1s0x888c931ac206be87:0x4e7e3644fd2a9f95!8m2!3d32.6675475!4d-85.388984!9m1!1b1')"
   ]
  },
  {
   "cell_type": "code",
   "execution_count": 84,
   "id": "cc4def7f",
   "metadata": {},
   "outputs": [
    {
     "name": "stdout",
     "output_type": "stream",
     "text": [
      "6\n"
     ]
    }
   ],
   "source": [
    "get_reviews('pca69','https://www.google.com/maps/place/Covenant+Presbyterian+Church/@32.6261755,-85.4761977,17z/data=!4m7!3m6!1s0x888cf2d751f22245:0xf8ad76d5de3df4f8!8m2!3d32.626171!4d-85.474009!9m1!1b1')"
   ]
  },
  {
   "cell_type": "code",
   "execution_count": 85,
   "id": "45d16593",
   "metadata": {},
   "outputs": [
    {
     "name": "stdout",
     "output_type": "stream",
     "text": [
      "10\n"
     ]
    }
   ],
   "source": [
    "get_reviews('pca70','https://www.google.com/maps/place/Trinity+Presbyterian+Church/@32.3579786,-86.305483,17z/data=!4m7!3m6!1s0x888e810594b4f90b:0xb2950b2e2e8aec98!8m2!3d32.3579741!4d-86.3032943!9m1!1b1')"
   ]
  },
  {
   "cell_type": "code",
   "execution_count": 86,
   "id": "754a483c",
   "metadata": {},
   "outputs": [
    {
     "name": "stdout",
     "output_type": "stream",
     "text": [
      "3\n"
     ]
    }
   ],
   "source": [
    "get_reviews('pca71','https://www.google.com/maps/place/First+Presbyterian+Church/@31.2297431,-85.4385699,17z/data=!4m7!3m6!1s0x8892927f97c105bd:0xd8cb925a8f3a82de!8m2!3d31.2297424!4d-85.4366392!9m1!1b1')"
   ]
  },
  {
   "cell_type": "code",
   "execution_count": 87,
   "id": "3858e738",
   "metadata": {},
   "outputs": [
    {
     "name": "stdout",
     "output_type": "stream",
     "text": [
      "7\n"
     ]
    }
   ],
   "source": [
    "get_reviews('pca72','https://www.google.com/maps/place/Grace+Community+Church/@30.6868955,-88.2108992,17z/data=!4m7!3m6!1s0x889bb262c6b03501:0x58ad1833928f81ad!8m2!3d30.6869042!4d-88.2087042!9m1!1b1')"
   ]
  },
  {
   "cell_type": "code",
   "execution_count": 88,
   "id": "ea53a8a5",
   "metadata": {},
   "outputs": [
    {
     "name": "stdout",
     "output_type": "stream",
     "text": [
      "7\n"
     ]
    }
   ],
   "source": [
    "get_reviews('pca73','https://www.google.com/maps/place/Pinewoods+Presbyterian+Church/@30.5714196,-87.3296333,17z/data=!4m7!3m6!1s0x889096c2217905a7:0xf2c99c9cca85644e!8m2!3d30.5713404!4d-87.3274425!9m1!1b1')"
   ]
  },
  {
   "cell_type": "code",
   "execution_count": 89,
   "id": "f675e148",
   "metadata": {},
   "outputs": [
    {
     "name": "stdout",
     "output_type": "stream",
     "text": [
      "8\n"
     ]
    }
   ],
   "source": [
    "get_reviews('pca74','https://www.google.com/maps/place/McIlwain+Memorial+Presbyterian/@30.4309799,-87.2053257,17z/data=!4m7!3m6!1s0x8890c09517c5ed23:0x5362c735c39c7f22!8m2!3d30.4309833!4d-87.2031387!9m1!1b1')"
   ]
  },
  {
   "cell_type": "code",
   "execution_count": 90,
   "id": "a0f5359d",
   "metadata": {},
   "outputs": [
    {
     "name": "stdout",
     "output_type": "stream",
     "text": [
      "15\n"
     ]
    }
   ],
   "source": [
    "get_reviews('pca75','https://www.google.com/maps/place/Westminster+Presbyterian+Church/@30.4347964,-86.6081156,17z/data=!4m7!3m6!1s0x88913f097e5732b7:0xe7679f9a4d537a02!8m2!3d30.4347966!4d-86.6058586!9m1!1b1')"
   ]
  },
  {
   "cell_type": "code",
   "execution_count": 91,
   "id": "83e2b156",
   "metadata": {},
   "outputs": [
    {
     "name": "stdout",
     "output_type": "stream",
     "text": [
      "21\n"
     ]
    }
   ],
   "source": [
    "get_reviews('pca76','https://www.google.com/maps/place/Covenant+Presbyterian+Church/@30.1918191,-85.6934244,17z/data=!4m7!3m6!1s0x88938423fac520e7:0x1f5c6c516751cdf9!8m2!3d30.1918145!4d-85.6912357!9m1!1b1')"
   ]
  },
  {
   "cell_type": "code",
   "execution_count": 92,
   "id": "bee041e0",
   "metadata": {},
   "outputs": [
    {
     "name": "stdout",
     "output_type": "stream",
     "text": [
      "7\n"
     ]
    }
   ],
   "source": [
    "get_reviews('pca77','https://www.google.com/maps/place/Wildwood+Church/@30.5489786,-84.2781437,17z/data=!4m7!3m6!1s0x88ecf7d13ba2b81f:0x7fcc830e8b709fdd!8m2!3d30.548974!4d-84.275955!9m1!1b1')"
   ]
  },
  {
   "cell_type": "code",
   "execution_count": 93,
   "id": "f7d1ae78",
   "metadata": {},
   "outputs": [
    {
     "name": "stdout",
     "output_type": "stream",
     "text": [
      "16\n"
     ]
    }
   ],
   "source": [
    "get_reviews('pca78','https://www.google.com/maps/place/Christ+Church+Intown/@30.3242569,-81.7078845,17z/data=!4m7!3m6!1s0x88e5b9c5bc1103b9:0x193d49f1a8137333!8m2!3d30.3242522!4d-81.7055959!9m1!1b1')"
   ]
  },
  {
   "cell_type": "code",
   "execution_count": 94,
   "id": "3c68bd17",
   "metadata": {},
   "outputs": [
    {
     "name": "stdout",
     "output_type": "stream",
     "text": [
      "13\n"
     ]
    }
   ],
   "source": [
    "get_reviews('pca79','https://www.google.com/maps/place/Westminster+Presbyterian+Church/@30.2601774,-81.5816829,17z/data=!4m7!3m6!1s0x88e5b58ba4b59345:0x8338aa7a2012414b!8m2!3d30.2601728!4d-81.5794942!9m1!1b1')"
   ]
  },
  {
   "cell_type": "code",
   "execution_count": 95,
   "id": "cd34ff47",
   "metadata": {},
   "outputs": [
    {
     "name": "stdout",
     "output_type": "stream",
     "text": [
      "6\n"
     ]
    }
   ],
   "source": [
    "get_reviews('pca80','https://www.google.com/maps/place/Ortega+Presbyterian+Church/@30.2700036,-81.7119567,17z/data=!4m7!3m6!1s0x88e5b80b9ea390fb:0x1a9cba95921e64d0!8m2!3d30.2700123!4d-81.7097518!9m1!1b1')"
   ]
  },
  {
   "cell_type": "code",
   "execution_count": 96,
   "id": "f14f26e5",
   "metadata": {},
   "outputs": [
    {
     "name": "stdout",
     "output_type": "stream",
     "text": [
      "5\n"
     ]
    }
   ],
   "source": [
    "get_reviews('pca81','https://www.google.com/maps/place/Faith+Presbyterian+Church/@29.689671,-82.4082591,17z/data=!4m7!3m6!1s0x88e8bb3f161f627b:0x64e7256f39e6adcd!8m2!3d29.6896563!4d-82.4059898!9m1!1b1')"
   ]
  },
  {
   "cell_type": "code",
   "execution_count": 97,
   "id": "b5dad2df",
   "metadata": {},
   "outputs": [
    {
     "name": "stdout",
     "output_type": "stream",
     "text": [
      "7\n"
     ]
    }
   ],
   "source": [
    "get_reviews('pca82','https://www.google.com/maps/place/Christ+Community+Church/@29.6388806,-82.4737975,17z/data=!4m7!3m6!1s0x88e8bc26c47165ff:0x7637bc41bb536b11!8m2!3d29.638876!4d-82.4716088!9m1!1b1')"
   ]
  },
  {
   "cell_type": "code",
   "execution_count": 98,
   "id": "9f151a78",
   "metadata": {},
   "outputs": [
    {
     "name": "stdout",
     "output_type": "stream",
     "text": [
      "10\n"
     ]
    }
   ],
   "source": [
    "get_reviews('pca83','https://www.google.com/maps/place/Pine+Ridge+Church+PCA/@28.5050777,-81.4871547,17z/data=!4m7!3m6!1s0x88e778cdd77a7223:0xbea41f846d33662d!8m2!3d28.505083!4d-81.4849177!9m1!1b1')"
   ]
  },
  {
   "cell_type": "code",
   "execution_count": 99,
   "id": "b8f9608f",
   "metadata": {},
   "outputs": [
    {
     "name": "stdout",
     "output_type": "stream",
     "text": [
      "4\n"
     ]
    }
   ],
   "source": [
    "get_reviews('pca84','https://www.google.com/maps/place/Cornerstone+Presbyterian+Church/@28.1258882,-82.5315767,17z/data=!4m7!3m6!1s0x88c2bfa3528cf5f3:0x1a8ab052dcbfb952!8m2!3d28.1258835!4d-82.529388!9m1!1b1')"
   ]
  },
  {
   "cell_type": "code",
   "execution_count": 100,
   "id": "6b1d6697",
   "metadata": {},
   "outputs": [
    {
     "name": "stdout",
     "output_type": "stream",
     "text": [
      "16\n"
     ]
    }
   ],
   "source": [
    "get_reviews('pca85','https://www.google.com/maps/place/Covenant+Presbyterian+Church/@27.992883,-81.9568183,17z/data=!3m1!5s0x88dd394aa2fa63b3:0xc52ee97b317940e7!4m7!3m6!1s0x88dd394a96978b95:0xc45057e5f328745f!8m2!3d27.9928783!4d-81.9546296!9m1!1b1')"
   ]
  },
  {
   "cell_type": "code",
   "execution_count": 101,
   "id": "c109f6c6",
   "metadata": {},
   "outputs": [
    {
     "name": "stdout",
     "output_type": "stream",
     "text": [
      "11\n"
     ]
    }
   ],
   "source": [
    "get_reviews('pca86','https://www.google.com/maps/place/St+Petersburg+Presbyterian+Church/@27.8476346,-82.6314582,17z/data=!4m7!3m6!1s0x88c2e69506996d11:0xfbd811ce8fe5dc32!8m2!3d27.8476229!4d-82.6291895!9m1!1b1')"
   ]
  },
  {
   "cell_type": "code",
   "execution_count": 102,
   "id": "adeef011",
   "metadata": {},
   "outputs": [
    {
     "name": "stdout",
     "output_type": "stream",
     "text": [
      "4\n"
     ]
    }
   ],
   "source": [
    "get_reviews('pca87','https://www.google.com/maps/place/Christ+the+King+Presbyterian/@27.8218944,-82.7923872,17z/data=!4m7!3m6!1s0x88c2fc7a7ac745e5:0xf9f4e78c3e0d8020!8m2!3d27.8218909!4d-82.7872967!9m1!1b1')"
   ]
  },
  {
   "cell_type": "code",
   "execution_count": 103,
   "id": "f095cc0e",
   "metadata": {},
   "outputs": [
    {
     "name": "stdout",
     "output_type": "stream",
     "text": [
      "7\n"
     ]
    }
   ],
   "source": [
    "get_reviews('pca88','https://www.google.com/maps/place/Treasure+Coast+Presbyterian/@27.1984861,-80.2569225,17z/data=!4m7!3m6!1s0x88dedd5d57522f93:0xfe8a118864491dcb!8m2!3d27.1984413!4d-80.2547337!9m1!1b1')"
   ]
  },
  {
   "cell_type": "code",
   "execution_count": 104,
   "id": "2d04c781",
   "metadata": {},
   "outputs": [
    {
     "name": "stdout",
     "output_type": "stream",
     "text": [
      "7\n"
     ]
    }
   ],
   "source": [
    "get_reviews('pca89','https://www.google.com/maps/place/Truth+Point+Church/@26.7203847,-80.0547462,17z/data=!4m7!3m6!1s0x88d929f86c2d4891:0x5786d3d8cf05bc06!8m2!3d26.72038!4d-80.0502615!9m1!1b1')"
   ]
  },
  {
   "cell_type": "code",
   "execution_count": 105,
   "id": "9f0d78c6",
   "metadata": {},
   "outputs": [
    {
     "name": "stdout",
     "output_type": "stream",
     "text": [
      "25\n"
     ]
    }
   ],
   "source": [
    "get_reviews('pca90','https://www.google.com/maps/place/The+Avenue+Church/@26.4699638,-80.0765717,17z/data=!4m7!3m6!1s0x88d8dfc2b43bda8b:0xa513f928501261f5!8m2!3d26.4699575!4d-80.0744002!9m1!1b1')"
   ]
  },
  {
   "cell_type": "code",
   "execution_count": 106,
   "id": "53774083",
   "metadata": {},
   "outputs": [
    {
     "name": "stdout",
     "output_type": "stream",
     "text": [
      "10\n"
     ]
    }
   ],
   "source": [
    "get_reviews('pca91','https://www.google.com/maps/place/Rio+Vista+Church/@26.1111087,-80.1386554,17z/data=!4m7!3m6!1s0x88d9005befb28ab5:0xc70ae6fdfe35fd62!8m2!3d26.1109278!4d-80.1364667!9m1!1b1')"
   ]
  },
  {
   "cell_type": "code",
   "execution_count": 107,
   "id": "a021845c",
   "metadata": {},
   "outputs": [
    {
     "name": "stdout",
     "output_type": "stream",
     "text": [
      "13\n"
     ]
    }
   ],
   "source": [
    "get_reviews('pca92','https://www.google.com/maps/place/Pinelands+Presbyterian+Church/@25.5788998,-80.358653,17z/data=!4m7!3m6!1s0x88d9c487b9454bf9:0xf6bb730bfbc648e!8m2!3d25.5788077!4d-80.3564372!9m1!1b1')"
   ]
  },
  {
   "cell_type": "code",
   "execution_count": 108,
   "id": "72c66230",
   "metadata": {},
   "outputs": [
    {
     "name": "stdout",
     "output_type": "stream",
     "text": [
      "20\n"
     ]
    }
   ],
   "source": [
    "get_reviews('pca93','https://www.google.com/maps/place/Redeemer+Church,+PCA/@32.3562008,-90.1645135,17z/data=!4m7!3m6!1s0x8629cd4cb48ea587:0xf2483d5593849f97!8m2!3d32.3560034!4d-90.1623207!9m1!1b1')"
   ]
  },
  {
   "cell_type": "code",
   "execution_count": 109,
   "id": "141d399f",
   "metadata": {},
   "outputs": [
    {
     "name": "stdout",
     "output_type": "stream",
     "text": [
      "2\n"
     ]
    }
   ],
   "source": [
    "get_reviews('pca94','https://www.google.com/maps/place/First+Presbyterian+Church+of+Biloxi,+Mississippi/@30.3957683,-88.9187236,17z/data=!4m7!3m6!1s0x889c0e4f3b94e427:0x4af6aed965e4061a!8m2!3d30.3957653!4d-88.9164539!9m1!1b1')"
   ]
  },
  {
   "cell_type": "code",
   "execution_count": 110,
   "id": "0c12e46c",
   "metadata": {},
   "outputs": [
    {
     "name": "stdout",
     "output_type": "stream",
     "text": [
      "9\n"
     ]
    }
   ],
   "source": [
    "get_reviews('pca95','https://www.google.com/maps/place/Christ+Fellowship/@34.952907,-90.0189862,17z/data=!4m7!3m6!1s0x87d56180fa521015:0x6afe6f7ec0d58ce5!8m2!3d34.9529014!4d-90.0167756!9m1!1b1')"
   ]
  },
  {
   "cell_type": "code",
   "execution_count": 111,
   "id": "2d40c011",
   "metadata": {},
   "outputs": [
    {
     "name": "stdout",
     "output_type": "stream",
     "text": [
      "12\n"
     ]
    }
   ],
   "source": [
    "get_reviews('pca96','https://www.google.com/maps/place/Independent+Presbyterian+Church/@35.1322099,-89.9061682,17z/data=!4m7!3m6!1s0x887f838b80fb3697:0xf4ae1f0ee06ad2b!8m2!3d35.1319654!4d-89.9039889!9m1!1b1')"
   ]
  },
  {
   "cell_type": "code",
   "execution_count": 112,
   "id": "bf18c688",
   "metadata": {},
   "outputs": [
    {
     "name": "stdout",
     "output_type": "stream",
     "text": [
      "7\n"
     ]
    }
   ],
   "source": [
    "get_reviews('pca97','https://www.google.com/maps/place/Christ+Presbyterian+Church/@36.5554501,-87.2613157,17z/data=!4m7!3m6!1s0x8864dfa0333091c5:0x5400e49a0cdd649c!8m2!3d36.5554458!4d-87.259127!9m1!1b1')"
   ]
  },
  {
   "cell_type": "code",
   "execution_count": 113,
   "id": "1298e6a4",
   "metadata": {},
   "outputs": [
    {
     "name": "stdout",
     "output_type": "stream",
     "text": [
      "3\n"
     ]
    }
   ],
   "source": [
    "get_reviews('pca98','https://www.google.com/maps/place/Trinity+Presbyterian+Church/@35.186156,-84.8255158,17z/data=!4m7!3m6!1s0x885e2b986664f609:0xc167dc3e7b4eee9d!8m2!3d35.1862205!4d-84.8232903!9m1!1b1')"
   ]
  },
  {
   "cell_type": "code",
   "execution_count": 114,
   "id": "0b5e26d0",
   "metadata": {},
   "outputs": [
    {
     "name": "stdout",
     "output_type": "stream",
     "text": [
      "15\n"
     ]
    }
   ],
   "source": [
    "get_reviews('pca99','https://www.google.com/maps/place/Grace+Blue+Ridge+(PCA)/@35.3001653,-82.4462718,17z/data=!4m7!3m6!1s0x8859c244dd904053:0x8e8d711914b3929a!8m2!3d35.3001609!4d-82.4440831!9m1!1b1')"
   ]
  },
  {
   "cell_type": "code",
   "execution_count": null,
   "id": "2d93beb7",
   "metadata": {},
   "outputs": [],
   "source": []
  }
 ],
 "metadata": {
  "kernelspec": {
   "display_name": "isye6740",
   "language": "python",
   "name": "isye6740"
  },
  "language_info": {
   "codemirror_mode": {
    "name": "ipython",
    "version": 3
   },
   "file_extension": ".py",
   "mimetype": "text/x-python",
   "name": "python",
   "nbconvert_exporter": "python",
   "pygments_lexer": "ipython3",
   "version": "3.9.12"
  }
 },
 "nbformat": 4,
 "nbformat_minor": 5
}
